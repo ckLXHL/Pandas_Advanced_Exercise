{
 "cells": [
  {
   "cell_type": "markdown",
   "metadata": {},
   "source": [
    "# pandas 进阶修炼 ｜早起Python\n",
    "<br>\n",
    "\n",
    "**本习题由公众号【早起Python & 可视化图鉴】 原创，转载及其他形式合作请与我们联系（微信号`sshs321`)，未经授权严禁搬运及二次创作，侵权必究！**\n",
    "\n",
    "\n",
    "\n",
    "本习题基于 `pandas` 版本 `1.1.3`，所有内容应当在 `Jupyter Notebook` 中执行以获得最佳效果。\n",
    "\n",
    "不同版本之间写法可能会有少许不同，如若碰到此情况，你应该学会如何自行检索解决。"
   ]
  },
  {
   "cell_type": "markdown",
   "metadata": {},
   "source": [
    "# 1 - 数据加载与存储 "
   ]
  },
  {
   "cell_type": "markdown",
   "metadata": {},
   "source": [
    "是的，常常被忽略的「<font color=#E36C07>**数据加载与存储**</font>」也大有门道且值得作为本套习题的开门之章。\n",
    "\n",
    "在一次数据分析的过程中，你可能只会读取或存储一两次数据集。\n",
    "\n",
    "**但若能灵活掌握各项设置，在读取阶段就将数据筛选、匹配、格式指定等操作完成，有时会为我们节省大量时间。**\n",
    "\n",
    "在本节习题中，我将 pandas 数据分析中常见的数据读取与存储操作进行整理。\n",
    "\n",
    "<font color=#E36C07>**既可以用于巩固、学习各种操作，也可以作为速查手册使用**</font>。"
   ]
  },
  {
   "cell_type": "markdown",
   "metadata": {},
   "source": [
    "## 初始化\n",
    "\n",
    "<br>\n",
    "\n",
    "该 `Notebook` 版本为**纯习题版**\n",
    "\n",
    "如果需要答案或者提示，可以微信搜索公众号「早起Python」获取！"
   ]
  },
  {
   "cell_type": "markdown",
   "metadata": {},
   "source": [
    "## 1-1 数据读取"
   ]
  },
  {
   "cell_type": "markdown",
   "metadata": {},
   "source": [
    "### 1 读取 Excel 文件\n",
    "\n",
    "<br>\n",
    "\n",
    "- 读取当前目录下 `某招聘网站数据.csv` 文件\n",
    "\n",
    "- 读取当前目录下 `TOP250.xlsx` 文件\n",
    "\n",
    "**注意**：使用 `pandas` 读取 `CSV` 与 读取 `xlsx` 格式的 `Excel` 文件方法大致相同\n",
    "\n",
    "因此接下来与 `Excel` 相关的操作均以 `CSV` 格式进行出题。"
   ]
  },
  {
   "cell_type": "code",
   "execution_count": 3,
   "metadata": {},
   "outputs": [],
   "source": [
    "import pandas as pd\n",
    "data = pd.read_csv(\"某招聘网站数据.csv\")\n",
    "data = pd.read_excel(\"TOP250.xlsx\")"
   ]
  },
  {
   "cell_type": "markdown",
   "metadata": {},
   "source": [
    "### 2 读取 Excel 文件｜指定位置\n",
    "\n",
    "在大多数情况下，我们会将 `notebook` 和数据源文件放在同一个目录（文件夹下），这样直接使用`pd.read_xxx(\"文件名\")`即可成功读取。\n",
    " \n",
    "但有时需要读取的文件和 `notebook` 不在同一个目录下，这时可以使用绝对路径或者相对本 `notebook` 的路径。\n",
    "\n",
    "现在请读取本套习题中第二章节下的数据，即 `2 - 个性化显示设置/data.csv`"
   ]
  },
  {
   "cell_type": "code",
   "execution_count": 6,
   "metadata": {},
   "outputs": [
    {
     "output_type": "execute_result",
     "data": {
      "text/plain": [
       "   positionId positionName  companyId companySize industryField financeStage  \\\n",
       "0     6802721         数据分析     475770     50-150人      移动互联网,电商           A轮   \n",
       "1     5204912         数据建模      50735    150-500人            电商           B轮   \n",
       "\n",
       "                   companyLabelList  firstType secondType thirdType  ... plus  \\\n",
       "0  ['绩效奖金', '带薪年假', '定期体检', '弹性工作']  产品|需求|项目类       数据分析      数据分析  ...  NaN   \n",
       "1  ['年终奖金', '做五休二', '六险一金', '子女福利']  开发|测试|运维类       数据开发        建模  ...  NaN   \n",
       "\n",
       "  pcShow appShow deliver gradeDescription promotionScoreExplain isHotHire  \\\n",
       "0      0       0       0              NaN                   NaN         0   \n",
       "1      0       0       0              NaN                   NaN         0   \n",
       "\n",
       "   count aggregatePositionIds famousCompany  \n",
       "0      0                   []         False  \n",
       "1      0                   []         False  \n",
       "\n",
       "[2 rows x 52 columns]"
      ],
      "text/html": "<div>\n<style scoped>\n    .dataframe tbody tr th:only-of-type {\n        vertical-align: middle;\n    }\n\n    .dataframe tbody tr th {\n        vertical-align: top;\n    }\n\n    .dataframe thead th {\n        text-align: right;\n    }\n</style>\n<table border=\"1\" class=\"dataframe\">\n  <thead>\n    <tr style=\"text-align: right;\">\n      <th></th>\n      <th>positionId</th>\n      <th>positionName</th>\n      <th>companyId</th>\n      <th>companySize</th>\n      <th>industryField</th>\n      <th>financeStage</th>\n      <th>companyLabelList</th>\n      <th>firstType</th>\n      <th>secondType</th>\n      <th>thirdType</th>\n      <th>...</th>\n      <th>plus</th>\n      <th>pcShow</th>\n      <th>appShow</th>\n      <th>deliver</th>\n      <th>gradeDescription</th>\n      <th>promotionScoreExplain</th>\n      <th>isHotHire</th>\n      <th>count</th>\n      <th>aggregatePositionIds</th>\n      <th>famousCompany</th>\n    </tr>\n  </thead>\n  <tbody>\n    <tr>\n      <th>0</th>\n      <td>6802721</td>\n      <td>数据分析</td>\n      <td>475770</td>\n      <td>50-150人</td>\n      <td>移动互联网,电商</td>\n      <td>A轮</td>\n      <td>['绩效奖金', '带薪年假', '定期体检', '弹性工作']</td>\n      <td>产品|需求|项目类</td>\n      <td>数据分析</td>\n      <td>数据分析</td>\n      <td>...</td>\n      <td>NaN</td>\n      <td>0</td>\n      <td>0</td>\n      <td>0</td>\n      <td>NaN</td>\n      <td>NaN</td>\n      <td>0</td>\n      <td>0</td>\n      <td>[]</td>\n      <td>False</td>\n    </tr>\n    <tr>\n      <th>1</th>\n      <td>5204912</td>\n      <td>数据建模</td>\n      <td>50735</td>\n      <td>150-500人</td>\n      <td>电商</td>\n      <td>B轮</td>\n      <td>['年终奖金', '做五休二', '六险一金', '子女福利']</td>\n      <td>开发|测试|运维类</td>\n      <td>数据开发</td>\n      <td>建模</td>\n      <td>...</td>\n      <td>NaN</td>\n      <td>0</td>\n      <td>0</td>\n      <td>0</td>\n      <td>NaN</td>\n      <td>NaN</td>\n      <td>0</td>\n      <td>0</td>\n      <td>[]</td>\n      <td>False</td>\n    </tr>\n  </tbody>\n</table>\n<p>2 rows × 52 columns</p>\n</div>"
     },
     "metadata": {},
     "execution_count": 6
    }
   ],
   "source": [
    "data_ext = pd.read_csv('../2 - 个性化显示设置/data.csv')\n",
    "data_ext.head(n=2)"
   ]
  },
  {
   "cell_type": "markdown",
   "metadata": {},
   "source": [
    "###  3 读取 Excel 文件｜指定行（顺序）\n",
    "<br>\n",
    "\n",
    "读取当前目录下 `某招聘网站数据.csv` 文件的 <font color = '#5F5FFC'>前20行</font>"
   ]
  },
  {
   "cell_type": "code",
   "execution_count": 8,
   "metadata": {},
   "outputs": [
    {
     "output_type": "stream",
     "name": "stdout",
     "text": [
      "(20, 52)\n"
     ]
    }
   ],
   "source": [
    "data = pd.read_csv(\"某招聘网站数据.csv\", nrows=20)\n",
    "print(data.shape)"
   ]
  },
  {
   "cell_type": "code",
   "execution_count": 10,
   "metadata": {},
   "outputs": [
    {
     "output_type": "stream",
     "name": "stdout",
     "text": [
      "(105, 52)\n"
     ]
    }
   ],
   "source": [
    "data = pd.read_csv(\"某招聘网站数据.csv\")\n",
    "print(data.shape)"
   ]
  },
  {
   "cell_type": "markdown",
   "metadata": {},
   "source": [
    "###  4 读取 Excel 文件｜指定行（跳过）\n",
    "<br>\n",
    "\n",
    "读取当前目录下 `某招聘网站数据.csv` 文件并<font color = '#5F5FFC'>跳过前20行</font>"
   ]
  },
  {
   "cell_type": "code",
   "execution_count": 9,
   "metadata": {},
   "outputs": [
    {
     "output_type": "stream",
     "name": "stdout",
     "text": [
      "(85, 52)\n"
     ]
    }
   ],
   "source": [
    "data = pd.read_csv(\"某招聘网站数据.csv\", skiprows=20)\n",
    "print(data.shape)"
   ]
  },
  {
   "cell_type": "markdown",
   "metadata": {},
   "source": [
    "###  5 读取 Excel 文件｜指定行（条件）\n",
    "<br>\n",
    "\n",
    "读取当前目录下 `某招聘网站数据.csv` 文件中全部<font color = '#5F5FFC'>偶数行</font>\n",
    "\n",
    "思考：如果是读取全部奇数行，或者更多满足指定条件的行呢？"
   ]
  },
  {
   "cell_type": "code",
   "execution_count": 13,
   "metadata": {},
   "outputs": [
    {
     "output_type": "stream",
     "name": "stdout",
     "text": [
      "(52, 52)\n"
     ]
    }
   ],
   "source": [
    "data = pd.read_csv(\"某招聘网站数据.csv\", skiprows=(lambda x: x %2 == 0))\n",
    "print(data.shape)"
   ]
  },
  {
   "cell_type": "markdown",
   "metadata": {},
   "source": [
    "### 6 读取 Excel 文件｜指定列（列号）\n",
    "\n",
    "<br>\n",
    "\n",
    "**根据指定列号读取**\n",
    "\n",
    "读取当前目录下 `某招聘网站数据.csv` 文件的第 `1、3、5` 列"
   ]
  },
  {
   "cell_type": "code",
   "execution_count": 14,
   "metadata": {},
   "outputs": [
    {
     "output_type": "stream",
     "name": "stdout",
     "text": [
      "(105, 3)\n"
     ]
    }
   ],
   "source": [
    "data = pd.read_csv(\"某招聘网站数据.csv\", usecols=[1,3,5])\n",
    "print(data.shape)"
   ]
  },
  {
   "cell_type": "markdown",
   "metadata": {},
   "source": [
    "###  7 读取 Excel 文件｜指定列（列名）\n",
    "\n",
    "<br>\n",
    "\n",
    "**根据指定列名读取**\n",
    "\n",
    "读取当前目录下 `某招聘网站数据.csv` 文件的 `positionId、positionName、salary` 列"
   ]
  },
  {
   "cell_type": "code",
   "execution_count": 19,
   "metadata": {},
   "outputs": [
    {
     "output_type": "execute_result",
     "data": {
      "text/plain": [
       "<bound method NDFrame.head of      positionId           positionName  salary\n",
       "0       6802721                   数据分析   37500\n",
       "1       5204912                   数据建模   15000\n",
       "2       6877668                   数据分析    3500\n",
       "3       6496141                   数据分析   45000\n",
       "4       6467417                   数据分析   30000\n",
       "..          ...                    ...     ...\n",
       "100     6884346                  数据分析师   25000\n",
       "101     6849100                 商业数据分析   35000\n",
       "102     6803432        奔驰·耀出行-BI数据分析专家   30000\n",
       "103     6704835                BI数据分析师   20000\n",
       "104     6728058  数据分析专家-LQ(J181203029)   21500\n",
       "\n",
       "[105 rows x 3 columns]>"
      ]
     },
     "metadata": {},
     "execution_count": 19
    }
   ],
   "source": [
    "data = pd.read_csv(\"某招聘网站数据.csv\", usecols=[\"positionId\",\"positionName\",\"salary\"])\n",
    "data.head"
   ]
  },
  {
   "cell_type": "markdown",
   "metadata": {},
   "source": [
    "###  8 读取 Excel 文件｜指定列（匹配）\n",
    "\n",
    "<br>\n",
    "\n",
    "**根据指定列名匹配读取**\n",
    "\n",
    "让我们来个更难一点的，还是读取 `某招聘网站数据.csv` 文件，但现在有一个 list 中包含多个字段👇\n",
    "\n",
    "`usecols = ['positionId','test','positionName', 'test1','salary']`\n",
    "\n",
    "如果 `usecols` 中的列名存在于 `某招聘网站数据.csv` 中，则读取。"
   ]
  },
  {
   "cell_type": "code",
   "execution_count": 21,
   "metadata": {},
   "outputs": [
    {
     "output_type": "execute_result",
     "data": {
      "text/plain": [
       "(105, 3)"
      ]
     },
     "metadata": {},
     "execution_count": 21
    }
   ],
   "source": [
    "data = pd.read_csv(\"某招聘网站数据.csv\", usecols=lambda x: x in ['positionId','test','positionName', 'test1','salary'])\n",
    "data.shape"
   ]
  },
  {
   "cell_type": "markdown",
   "metadata": {},
   "source": [
    "### 9 读取 Excel 文件｜指定索引\n",
    "\n",
    "<br>\n",
    "\n",
    "读取当前目录下 `某招聘网站数据.csv` 文件，并在读取时将 `positionId` 设置为索引列"
   ]
  },
  {
   "cell_type": "code",
   "execution_count": 20,
   "metadata": {},
   "outputs": [
    {
     "output_type": "execute_result",
     "data": {
      "text/plain": [
       "<bound method NDFrame.head of                      positionName  companyId companySize industryField  \\\n",
       "positionId                                                               \n",
       "6802721                      数据分析     475770     50-150人      移动互联网,电商   \n",
       "5204912                      数据建模      50735    150-500人            电商   \n",
       "6877668                      数据分析     100125     2000人以上    移动互联网,企业服务   \n",
       "6496141                      数据分析      26564   500-2000人            电商   \n",
       "6467417                      数据分析      29211     2000人以上         物流丨运输   \n",
       "...                           ...        ...         ...           ...   \n",
       "6884346                     数据分析师      21236   500-2000人   移动互联网,医疗丨健康   \n",
       "6849100                    商业数据分析      72076   500-2000人      移动互联网,电商   \n",
       "6803432           奔驰·耀出行-BI数据分析专家     751158    150-500人         移动互联网   \n",
       "6704835                   BI数据分析师      52840     2000人以上            电商   \n",
       "6728058     数据分析专家-LQ(J181203029)       2474     2000人以上         汽车丨出行   \n",
       "\n",
       "           financeStage                   companyLabelList  firstType  \\\n",
       "positionId                                                              \n",
       "6802721              A轮   ['绩效奖金', '带薪年假', '定期体检', '弹性工作']  产品|需求|项目类   \n",
       "5204912              B轮   ['年终奖金', '做五休二', '六险一金', '子女福利']  开发|测试|运维类   \n",
       "6877668            上市公司   ['节日礼物', '年底双薪', '股票期权', '带薪年假']  产品|需求|项目类   \n",
       "6496141           D轮及以上  ['生日趴', '每月腐败基金', '每月补贴', '年度旅游']  开发|测试|运维类   \n",
       "6467417            上市公司   ['技能培训', '免费班车', '专项奖金', '岗位晋升']  产品|需求|项目类   \n",
       "...                 ...                                ...        ...   \n",
       "6884346              C轮   ['技能培训', '年底双薪', '节日礼物', '绩效奖金']  产品|需求|项目类   \n",
       "6849100              C轮   ['节日礼物', '股票期权', '带薪年假', '年度旅游']     市场|商务类   \n",
       "6803432           不需要融资                                 []  开发|测试|运维类   \n",
       "6704835            上市公司   ['技能培训', '年底双薪', '节日礼物', '绩效奖金']  开发|测试|运维类   \n",
       "6728058           不需要融资   ['弹性工作', '节日礼物', '岗位晋升', '技能培训']  产品|需求|项目类   \n",
       "\n",
       "           secondType thirdType                     skillLables  ... plus  \\\n",
       "positionId                                                       ...        \n",
       "6802721          数据分析      数据分析    ['SQL', '数据库', '数据运营', 'BI']  ...  NaN   \n",
       "5204912          数据开发        建模                  ['算法', '数据架构']  ...  NaN   \n",
       "6877668          数据分析      数据分析          ['数据库', '数据分析', 'SQL']  ...  NaN   \n",
       "6496141          数据开发      数据分析                              []  ...  NaN   \n",
       "6467417          数据分析      数据分析          ['BI', '数据分析', '数据运营']  ...  NaN   \n",
       "...               ...       ...                             ...  ...  ...   \n",
       "6884346          数据分析      数据分析    ['数据库', '商业', '数据分析', 'SQL']  ...  NaN   \n",
       "6849100         市场|营销    商业数据分析  ['市场', '数据分析', '行业分析', '市场分析']  ...  NaN   \n",
       "6803432          数据开发      数据分析       ['MySQL', '数据处理', '数据分析']  ...  NaN   \n",
       "6704835          数据开发      数据分析           ['SQLServer', '数据分析']  ...  NaN   \n",
       "6728058          数据分析    其他数据分析                              []  ...  NaN   \n",
       "\n",
       "           pcShow appShow deliver gradeDescription promotionScoreExplain  \\\n",
       "positionId                                                                 \n",
       "6802721         0       0       0              NaN                   NaN   \n",
       "5204912         0       0       0              NaN                   NaN   \n",
       "6877668         0       0       0              NaN                   NaN   \n",
       "6496141         0       0       0              NaN                   NaN   \n",
       "6467417         0       0       0              NaN                   NaN   \n",
       "...           ...     ...     ...              ...                   ...   \n",
       "6884346         0       0       0              NaN                   NaN   \n",
       "6849100         0       0       0              NaN                   NaN   \n",
       "6803432         0       0       0              NaN                   NaN   \n",
       "6704835         0       0       0              NaN                   NaN   \n",
       "6728058         0       0       0              NaN                   NaN   \n",
       "\n",
       "            isHotHire count aggregatePositionIds famousCompany  \n",
       "positionId                                                      \n",
       "6802721             0     0                   []         False  \n",
       "5204912             0     0                   []         False  \n",
       "6877668             0     0                   []         False  \n",
       "6496141             0     0                   []          True  \n",
       "6467417             0     0                   []          True  \n",
       "...               ...   ...                  ...           ...  \n",
       "6884346             0     0                   []         False  \n",
       "6849100             0     0                   []         False  \n",
       "6803432             0     0                   []         False  \n",
       "6704835             0     0                   []          True  \n",
       "6728058             0     0                   []          True  \n",
       "\n",
       "[105 rows x 51 columns]>"
      ]
     },
     "metadata": {},
     "execution_count": 20
    }
   ],
   "source": [
    "data = pd.read_csv(\"某招聘网站数据.csv\", index_col='positionId')\n",
    "data.head"
   ]
  },
  {
   "cell_type": "markdown",
   "metadata": {},
   "source": [
    "###  10 读取 Excel 文件｜指定标题\n",
    "\n",
    "<br>\n",
    "\n",
    "\n",
    "读取当前目录下 `某招聘网站数据.csv` 文件的 `positionId、positionName、salary` 列，并将标题设置为 `ID、岗位名称、薪资`"
   ]
  },
  {
   "cell_type": "code",
   "execution_count": 24,
   "metadata": {},
   "outputs": [
    {
     "output_type": "execute_result",
     "data": {
      "text/plain": [
       "<bound method NDFrame.head of           Id                     岗位     薪资\n",
       "0    6802721                   数据分析  37500\n",
       "1    5204912                   数据建模  15000\n",
       "2    6877668                   数据分析   3500\n",
       "3    6496141                   数据分析  45000\n",
       "4    6467417                   数据分析  30000\n",
       "..       ...                    ...    ...\n",
       "100  6884346                  数据分析师  25000\n",
       "101  6849100                 商业数据分析  35000\n",
       "102  6803432        奔驰·耀出行-BI数据分析专家  30000\n",
       "103  6704835                BI数据分析师  20000\n",
       "104  6728058  数据分析专家-LQ(J181203029)  21500\n",
       "\n",
       "[105 rows x 3 columns]>"
      ]
     },
     "metadata": {},
     "execution_count": 24
    }
   ],
   "source": [
    "data = pd.read_csv(\"某招聘网站数据.csv\", usecols=[\"positionId\",\"positionName\",\"salary\"])\n",
    "data = data.rename(columns={\n",
    "    'positionId':\"Id\",\n",
    "    'positionName': \"岗位\",\n",
    "    'salary' : \"薪资\"\n",
    "})\n",
    "data.head"
   ]
  },
  {
   "cell_type": "markdown",
   "metadata": {},
   "source": [
    "###  11 读取 Excel 文件｜缺失值转换\n",
    "\n",
    "<br>\n",
    "\n",
    "\n",
    "读取当前目录下 `某招聘网站数据.csv` 文件，**并不将缺失值标记为 `NA`**\n",
    "\n",
    "思考：为什么要这样做？"
   ]
  },
  {
   "cell_type": "code",
   "execution_count": 47,
   "metadata": {},
   "outputs": [
    {
     "output_type": "execute_result",
     "data": {
      "text/plain": [
       "positionId               0\n",
       "positionName             0\n",
       "companyId                0\n",
       "companySize              0\n",
       "industryField            0\n",
       "financeStage             0\n",
       "companyLabelList         0\n",
       "firstType                0\n",
       "secondType               0\n",
       "thirdType                0\n",
       "skillLables              0\n",
       "positionLables           0\n",
       "industryLables           0\n",
       "createTime               0\n",
       "formatCreateTime         0\n",
       "district                 0\n",
       "businessZones            0\n",
       "salary                   0\n",
       "workYear                 0\n",
       "jobNature                0\n",
       "education                0\n",
       "positionAdvantage        0\n",
       "imState                  0\n",
       "lastLogin                0\n",
       "publisherId              0\n",
       "approve                  0\n",
       "subwayline               0\n",
       "stationname              0\n",
       "linestaion               0\n",
       "latitude                 0\n",
       "longitude                0\n",
       "hitags                   0\n",
       "resumeProcessRate        0\n",
       "resumeProcessDay         0\n",
       "score                    0\n",
       "newScore                 0\n",
       "matchScore               0\n",
       "matchScoreExplain        0\n",
       "query                    0\n",
       "explain                  0\n",
       "isSchoolJob              0\n",
       "adWord                   0\n",
       "plus                     0\n",
       "pcShow                   0\n",
       "appShow                  0\n",
       "deliver                  0\n",
       "gradeDescription         0\n",
       "promotionScoreExplain    0\n",
       "isHotHire                0\n",
       "count                    0\n",
       "aggregatePositionIds     0\n",
       "famousCompany            0\n",
       "dtype: int64"
      ]
     },
     "metadata": {},
     "execution_count": 47
    }
   ],
   "source": [
    "data = pd.read_csv(\"某招聘网站数据.csv\", keep_default_na=False)\n",
    "data.isnull().sum()"
   ]
  },
  {
   "cell_type": "markdown",
   "metadata": {},
   "source": [
    "###  12 读取 Excel 文件｜缺失值标记\n",
    "\n",
    "<br>\n",
    "\n",
    "\n",
    "读取当前目录下 `某招聘网站数据.csv` 文件，**并将`[]`标记为缺失值**\n"
   ]
  },
  {
   "cell_type": "code",
   "execution_count": 46,
   "metadata": {},
   "outputs": [
    {
     "output_type": "execute_result",
     "data": {
      "text/plain": [
       "positionId                 0\n",
       "positionName               0\n",
       "companyId                  0\n",
       "companySize                0\n",
       "industryField              0\n",
       "financeStage               0\n",
       "companyLabelList          10\n",
       "firstType                  0\n",
       "secondType                 0\n",
       "thirdType                  0\n",
       "skillLables               13\n",
       "positionLables             2\n",
       "industryLables            49\n",
       "createTime                 0\n",
       "formatCreateTime           0\n",
       "district                   0\n",
       "businessZones             52\n",
       "salary                     0\n",
       "workYear                   0\n",
       "jobNature                  0\n",
       "education                  0\n",
       "positionAdvantage          0\n",
       "imState                    0\n",
       "lastLogin                  0\n",
       "publisherId                0\n",
       "approve                    0\n",
       "subwayline                60\n",
       "stationname               60\n",
       "linestaion                60\n",
       "latitude                   0\n",
       "longitude                  0\n",
       "hitags                   103\n",
       "resumeProcessRate          0\n",
       "resumeProcessDay           0\n",
       "score                      0\n",
       "newScore                   0\n",
       "matchScore                 0\n",
       "matchScoreExplain        105\n",
       "query                    105\n",
       "explain                  105\n",
       "isSchoolJob                0\n",
       "adWord                     0\n",
       "plus                     105\n",
       "pcShow                     0\n",
       "appShow                    0\n",
       "deliver                    0\n",
       "gradeDescription         105\n",
       "promotionScoreExplain    105\n",
       "isHotHire                  0\n",
       "count                      0\n",
       "aggregatePositionIds     105\n",
       "famousCompany              0\n",
       "dtype: int64"
      ]
     },
     "metadata": {},
     "execution_count": 46
    }
   ],
   "source": [
    "data = pd.read_csv(\"某招聘网站数据.csv\", na_values='[]', keep_default_na=True)\n",
    "data.isnull().sum()"
   ]
  },
  {
   "cell_type": "markdown",
   "metadata": {},
   "source": [
    "### 13 读取 Excel 文件｜忽略缺失值\n",
    "\n",
    "<br>\n",
    "\n",
    "读取当前目录下 `某招聘网站数据.csv` 文件，**但不处理缺失值**\n",
    "\n",
    "思考：和之前的有什么不同，为什么这么做？"
   ]
  },
  {
   "cell_type": "code",
   "execution_count": 48,
   "metadata": {},
   "outputs": [
    {
     "output_type": "execute_result",
     "data": {
      "text/plain": [
       "positionId                 0\n",
       "positionName               0\n",
       "companyId                  0\n",
       "companySize                0\n",
       "industryField              0\n",
       "financeStage               0\n",
       "companyLabelList           0\n",
       "firstType                  0\n",
       "secondType                 0\n",
       "thirdType                  0\n",
       "skillLables                0\n",
       "positionLables             0\n",
       "industryLables             0\n",
       "createTime                 0\n",
       "formatCreateTime           0\n",
       "district                   0\n",
       "businessZones             52\n",
       "salary                     0\n",
       "workYear                   0\n",
       "jobNature                  0\n",
       "education                  0\n",
       "positionAdvantage          0\n",
       "imState                    0\n",
       "lastLogin                  0\n",
       "publisherId                0\n",
       "approve                    0\n",
       "subwayline                60\n",
       "stationname               60\n",
       "linestaion                60\n",
       "latitude                   0\n",
       "longitude                  0\n",
       "hitags                   103\n",
       "resumeProcessRate          0\n",
       "resumeProcessDay           0\n",
       "score                      0\n",
       "newScore                   0\n",
       "matchScore                 0\n",
       "matchScoreExplain        105\n",
       "query                    105\n",
       "explain                  105\n",
       "isSchoolJob                0\n",
       "adWord                     0\n",
       "plus                     105\n",
       "pcShow                     0\n",
       "appShow                    0\n",
       "deliver                    0\n",
       "gradeDescription         105\n",
       "promotionScoreExplain    105\n",
       "isHotHire                  0\n",
       "count                      0\n",
       "aggregatePositionIds       0\n",
       "famousCompany              0\n",
       "dtype: int64"
      ]
     },
     "metadata": {},
     "execution_count": 48
    }
   ],
   "source": [
    "data = pd.read_csv(\"某招聘网站数据.csv\")\n",
    "data.isnull().sum()"
   ]
  },
  {
   "cell_type": "markdown",
   "metadata": {},
   "source": [
    "### 14 读取 Excel 文件｜指定格式\n",
    "\n",
    "<br>\n",
    "\n",
    "读取当前目录下 `某招聘网站数据.csv` 文件，并将 `positionId,companyId` 设置为字符串格式"
   ]
  },
  {
   "cell_type": "code",
   "execution_count": 53,
   "metadata": {},
   "outputs": [
    {
     "output_type": "stream",
     "name": "stdout",
     "text": [
      "positionId                object\npositionName              object\ncompanyId                 object\ncompanySize               object\nindustryField             object\nfinanceStage              object\ncompanyLabelList          object\nfirstType                 object\nsecondType                object\nthirdType                 object\nskillLables               object\npositionLables            object\nindustryLables            object\ncreateTime                object\nformatCreateTime          object\ndistrict                  object\nbusinessZones             object\nsalary                     int64\nworkYear                  object\njobNature                 object\neducation                 object\npositionAdvantage         object\nimState                   object\nlastLogin                 object\npublisherId                int64\napprove                    int64\nsubwayline                object\nstationname               object\nlinestaion                object\nlatitude                 float64\nlongitude                float64\nhitags                    object\nresumeProcessRate          int64\nresumeProcessDay           int64\nscore                      int64\nnewScore                   int64\nmatchScore               float64\nmatchScoreExplain        float64\nquery                    float64\nexplain                  float64\nisSchoolJob                int64\nadWord                     int64\nplus                     float64\npcShow                     int64\nappShow                    int64\ndeliver                    int64\ngradeDescription         float64\npromotionScoreExplain    float64\nisHotHire                  int64\ncount                      int64\naggregatePositionIds      object\nfamousCompany               bool\ndtype: object\n"
     ]
    },
    {
     "output_type": "execute_result",
     "data": {
      "text/plain": [
       "  positionId positionName companyId companySize industryField financeStage  \\\n",
       "0    6802721         数据分析    475770     50-150人      移动互联网,电商           A轮   \n",
       "1    5204912         数据建模     50735    150-500人            电商           B轮   \n",
       "2    6877668         数据分析    100125     2000人以上    移动互联网,企业服务         上市公司   \n",
       "3    6496141         数据分析     26564   500-2000人            电商        D轮及以上   \n",
       "4    6467417         数据分析     29211     2000人以上         物流丨运输         上市公司   \n",
       "\n",
       "                    companyLabelList  firstType secondType thirdType  ...  \\\n",
       "0   ['绩效奖金', '带薪年假', '定期体检', '弹性工作']  产品|需求|项目类       数据分析      数据分析  ...   \n",
       "1   ['年终奖金', '做五休二', '六险一金', '子女福利']  开发|测试|运维类       数据开发        建模  ...   \n",
       "2   ['节日礼物', '年底双薪', '股票期权', '带薪年假']  产品|需求|项目类       数据分析      数据分析  ...   \n",
       "3  ['生日趴', '每月腐败基金', '每月补贴', '年度旅游']  开发|测试|运维类       数据开发      数据分析  ...   \n",
       "4   ['技能培训', '免费班车', '专项奖金', '岗位晋升']  产品|需求|项目类       数据分析      数据分析  ...   \n",
       "\n",
       "  plus pcShow appShow deliver gradeDescription promotionScoreExplain  \\\n",
       "0  NaN      0       0       0              NaN                   NaN   \n",
       "1  NaN      0       0       0              NaN                   NaN   \n",
       "2  NaN      0       0       0              NaN                   NaN   \n",
       "3  NaN      0       0       0              NaN                   NaN   \n",
       "4  NaN      0       0       0              NaN                   NaN   \n",
       "\n",
       "  isHotHire  count aggregatePositionIds famousCompany  \n",
       "0         0      0                   []         False  \n",
       "1         0      0                   []         False  \n",
       "2         0      0                   []         False  \n",
       "3         0      0                   []          True  \n",
       "4         0      0                   []          True  \n",
       "\n",
       "[5 rows x 52 columns]"
      ],
      "text/html": "<div>\n<style scoped>\n    .dataframe tbody tr th:only-of-type {\n        vertical-align: middle;\n    }\n\n    .dataframe tbody tr th {\n        vertical-align: top;\n    }\n\n    .dataframe thead th {\n        text-align: right;\n    }\n</style>\n<table border=\"1\" class=\"dataframe\">\n  <thead>\n    <tr style=\"text-align: right;\">\n      <th></th>\n      <th>positionId</th>\n      <th>positionName</th>\n      <th>companyId</th>\n      <th>companySize</th>\n      <th>industryField</th>\n      <th>financeStage</th>\n      <th>companyLabelList</th>\n      <th>firstType</th>\n      <th>secondType</th>\n      <th>thirdType</th>\n      <th>...</th>\n      <th>plus</th>\n      <th>pcShow</th>\n      <th>appShow</th>\n      <th>deliver</th>\n      <th>gradeDescription</th>\n      <th>promotionScoreExplain</th>\n      <th>isHotHire</th>\n      <th>count</th>\n      <th>aggregatePositionIds</th>\n      <th>famousCompany</th>\n    </tr>\n  </thead>\n  <tbody>\n    <tr>\n      <th>0</th>\n      <td>6802721</td>\n      <td>数据分析</td>\n      <td>475770</td>\n      <td>50-150人</td>\n      <td>移动互联网,电商</td>\n      <td>A轮</td>\n      <td>['绩效奖金', '带薪年假', '定期体检', '弹性工作']</td>\n      <td>产品|需求|项目类</td>\n      <td>数据分析</td>\n      <td>数据分析</td>\n      <td>...</td>\n      <td>NaN</td>\n      <td>0</td>\n      <td>0</td>\n      <td>0</td>\n      <td>NaN</td>\n      <td>NaN</td>\n      <td>0</td>\n      <td>0</td>\n      <td>[]</td>\n      <td>False</td>\n    </tr>\n    <tr>\n      <th>1</th>\n      <td>5204912</td>\n      <td>数据建模</td>\n      <td>50735</td>\n      <td>150-500人</td>\n      <td>电商</td>\n      <td>B轮</td>\n      <td>['年终奖金', '做五休二', '六险一金', '子女福利']</td>\n      <td>开发|测试|运维类</td>\n      <td>数据开发</td>\n      <td>建模</td>\n      <td>...</td>\n      <td>NaN</td>\n      <td>0</td>\n      <td>0</td>\n      <td>0</td>\n      <td>NaN</td>\n      <td>NaN</td>\n      <td>0</td>\n      <td>0</td>\n      <td>[]</td>\n      <td>False</td>\n    </tr>\n    <tr>\n      <th>2</th>\n      <td>6877668</td>\n      <td>数据分析</td>\n      <td>100125</td>\n      <td>2000人以上</td>\n      <td>移动互联网,企业服务</td>\n      <td>上市公司</td>\n      <td>['节日礼物', '年底双薪', '股票期权', '带薪年假']</td>\n      <td>产品|需求|项目类</td>\n      <td>数据分析</td>\n      <td>数据分析</td>\n      <td>...</td>\n      <td>NaN</td>\n      <td>0</td>\n      <td>0</td>\n      <td>0</td>\n      <td>NaN</td>\n      <td>NaN</td>\n      <td>0</td>\n      <td>0</td>\n      <td>[]</td>\n      <td>False</td>\n    </tr>\n    <tr>\n      <th>3</th>\n      <td>6496141</td>\n      <td>数据分析</td>\n      <td>26564</td>\n      <td>500-2000人</td>\n      <td>电商</td>\n      <td>D轮及以上</td>\n      <td>['生日趴', '每月腐败基金', '每月补贴', '年度旅游']</td>\n      <td>开发|测试|运维类</td>\n      <td>数据开发</td>\n      <td>数据分析</td>\n      <td>...</td>\n      <td>NaN</td>\n      <td>0</td>\n      <td>0</td>\n      <td>0</td>\n      <td>NaN</td>\n      <td>NaN</td>\n      <td>0</td>\n      <td>0</td>\n      <td>[]</td>\n      <td>True</td>\n    </tr>\n    <tr>\n      <th>4</th>\n      <td>6467417</td>\n      <td>数据分析</td>\n      <td>29211</td>\n      <td>2000人以上</td>\n      <td>物流丨运输</td>\n      <td>上市公司</td>\n      <td>['技能培训', '免费班车', '专项奖金', '岗位晋升']</td>\n      <td>产品|需求|项目类</td>\n      <td>数据分析</td>\n      <td>数据分析</td>\n      <td>...</td>\n      <td>NaN</td>\n      <td>0</td>\n      <td>0</td>\n      <td>0</td>\n      <td>NaN</td>\n      <td>NaN</td>\n      <td>0</td>\n      <td>0</td>\n      <td>[]</td>\n      <td>True</td>\n    </tr>\n  </tbody>\n</table>\n<p>5 rows × 52 columns</p>\n</div>"
     },
     "metadata": {},
     "execution_count": 53
    }
   ],
   "source": [
    "data = pd.read_csv(\"某招聘网站数据.csv\", converters= {\n",
    "    'positionId': str,\n",
    "    'companyId': str\n",
    "})\n",
    "print(data.dtypes)\n",
    "data.head()"
   ]
  },
  {
   "cell_type": "markdown",
   "metadata": {},
   "source": [
    "### 15 读取 Excel 文件｜指定格式（时间）\n",
    "\n",
    "<br>\n",
    "\n",
    "读取当前目录下 `某招聘网站数据.csv` 文件，并将 `createTime` 列设置为字符串格式"
   ]
  },
  {
   "cell_type": "code",
   "execution_count": 57,
   "metadata": {},
   "outputs": [
    {
     "output_type": "stream",
     "name": "stdout",
     "text": [
      "object\n"
     ]
    },
    {
     "output_type": "execute_result",
     "data": {
      "text/plain": [
       "0    2020/3/16 11:00\n",
       "1    2020/3/16 11:08\n",
       "2    2020/3/16 10:33\n",
       "3    2020/3/16 10:10\n",
       "4     2020/3/16 9:56\n",
       "Name: createTime, dtype: object"
      ]
     },
     "metadata": {},
     "execution_count": 57
    }
   ],
   "source": [
    "data = pd.read_csv(\"某招聘网站数据.csv\", converters= {\n",
    "    'createTime': str\n",
    "})\n",
    "print(data.dtypes)\n",
    "data.head()"
   ]
  },
  {
   "cell_type": "markdown",
   "metadata": {},
   "source": [
    "### 16 读取 Excel 文件｜分块读取\n",
    "\n",
    "\n",
    "<br>\n",
    "\n",
    "读取当前目录下 `某招聘网站数据.csv` 文件，要求返回一个可迭代对象，每次读取 10 行\n",
    "\n",
    "思考：为什么这样做？"
   ]
  },
  {
   "cell_type": "code",
   "execution_count": 63,
   "metadata": {
    "tags": [
     "outputPrepend"
    ]
   },
   "outputs": [
    {
     "output_type": "stream",
     "name": "stdout",
     "text": [
      "'带薪年假', '定期体检']  开发|测试|运维类       数据开发      数据分析  ...   \n48    ['午餐补助', '带薪年假', '定期体检', '年度旅游']  产品|需求|项目类       数据分析      数据分析  ...   \n49      ['技能培训', 'Geek', '开放', '扁平管理']  综合职能|高级管理         财务        财务  ...   \n\n   plus pcShow appShow deliver gradeDescription promotionScoreExplain  \\\n40  NaN      0       0       0              NaN                   NaN   \n41  NaN      0       0       0              NaN                   NaN   \n42  NaN      0       0       0              NaN                   NaN   \n43  NaN      0       0       0              NaN                   NaN   \n44  NaN      0       0       0              NaN                   NaN   \n45  NaN      0       0       0              NaN                   NaN   \n46  NaN      0       0       0              NaN                   NaN   \n47  NaN      0       0       0              NaN                   NaN   \n48  NaN      0       0       0              NaN                   NaN   \n49  NaN      0       0       0              NaN                   NaN   \n\n   isHotHire  count aggregatePositionIds famousCompany  \n40         0      0                   []         False  \n41         0      0                   []         False  \n42         0      0                   []         False  \n43         0      0                   []         False  \n44         0      0                   []         False  \n45         0      0                   []          True  \n46         0      0                   []         False  \n47         0      0                   []         False  \n48         0      0                   []         False  \n49         0      0                   []          True  \n\n[10 rows x 52 columns]\n    positionId        positionName  companyId companySize industryField  \\\n50     6680900    数据分析师 (MJ000250)     114335    150-500人          数据服务   \n51     6191993     数据分析专家03-10-217      18655     2000人以上         汽车丨出行   \n52     6486069        解决方案顾问/数据分析师     166666    150-500人     企业服务,数据服务   \n53     6814233               数据分析师     619746     2000人以上            教育   \n54     6046775              数据分析专家     133429     50-150人    移动互联网,消费生活   \n55     6791055             高级数据分析师     432882    150-500人         移动互联网   \n56     6037742  资深数据分析师 (MJ000088)     127233    150-500人          电子商务   \n57     6872125               数据分析师     172552   500-2000人          消费生活   \n58     5921220             财务数据分析师     137388    150-500人      移动互联网,电商   \n59     5453691             数据分析实习生     166666    150-500人     企业服务,数据服务   \n\n   financeStage                    companyLabelList  firstType secondType  \\\n50           B轮     ['股票期权', '弹性工作', '领导好', '五险一金']  产品|需求|项目类       产品经理   \n51        D轮及以上      ['技能培训', 'Geek', '开放', '扁平管理']  开发|测试|运维类       数据开发   \n52           B轮    ['股票期权', '绩效奖金', '带薪年假', '弹性工作']  产品|需求|项目类       数据分析   \n53         上市公司    ['绩效奖金', '定期体检', '提供宿舍', '管理规范']  产品|需求|项目类       数据分析   \n54          未融资     ['年底双薪', '专项奖金', '美女多', '弹性工作']  产品|需求|项目类     高端产品职位   \n55        不需要融资  ['技术大牛', '领导nice', '帅哥美女', '环境超棒']  产品|需求|项目类       数据分析   \n56        不需要融资    ['带薪年假', '绩效奖金', '定期体检', '弹性工作']  开发|测试|运维类       数据开发   \n57        不需要融资                                  []  产品|需求|项目类       数据分析   \n58        不需要融资    ['年终分红', '绩效奖金', '定期体检', '年底双薪']  综合职能|高级管理         财务   \n59           B轮    ['股票期权', '绩效奖金', '带薪年假', '弹性工作']  开发|测试|运维类       数据开发   \n\n   thirdType  ... plus pcShow appShow deliver gradeDescription  \\\n50     数据分析师  ...  NaN      0       0       0              NaN   \n51      数据分析  ...  NaN      0       0       0              NaN   \n52      数据分析  ...  NaN      0       0       0              NaN   \n53      数据分析  ...  NaN      0       0       0              NaN   \n54    数据分析专家  ...  NaN      0       0       0              NaN   \n55      数据分析  ...  NaN      0       0       0              NaN   \n56      数据分析  ...  NaN      0       0       0              NaN   \n57      数据分析  ...  NaN      0       0       0              NaN   \n58      财务风控  ...  NaN      0       0       0              NaN   \n59      数据分析  ...  NaN      0       0       0              NaN   \n\n   promotionScoreExplain isHotHire  count aggregatePositionIds famousCompany  \n50                   NaN         0      0                   []         False  \n51                   NaN         0      0                   []          True  \n52                   NaN         0      0                   []         False  \n53                   NaN         0      0                   []         False  \n54                   NaN         0      0                   []         False  \n55                   NaN         0      0                   []         False  \n56                   NaN         0      0                   []         False  \n57                   NaN         0      0                   []         False  \n58                   NaN         0      0                   []         False  \n59                   NaN         0      0                   []         False  \n\n[10 rows x 52 columns]\n    positionId         positionName  companyId companySize industryField  \\\n60     5978750    数据分析师（保险）13-01-19      18655     2000人以上         汽车丨出行   \n61     5990647            高级财务数据分析师      18655     2000人以上         汽车丨出行   \n62     6191993      数据分析专家03-10-217      18655     2000人以上         汽车丨出行   \n63     6680900     数据分析师 (MJ000250)     114335    150-500人          数据服务   \n64     6789831              数据分析实习生     306282    150-500人    移动互联网,数据服务   \n65     6486069         解决方案顾问/数据分析师     166666    150-500人     企业服务,数据服务   \n66     6848382  资深数据分析师（商品方向）G01053     179243   500-2000人      电商,移动互联网   \n67     5203054              资深数据分析师        329     2000人以上            电商   \n68     6829736     数据分析负责人 or 数据分析师     205347     2000人以上         金融,电商   \n69     6116460  资深数据分析/数据分析专家G00796     179243   500-2000人      电商,移动互联网   \n\n   financeStage                  companyLabelList  firstType secondType  \\\n60        D轮及以上    ['技能培训', 'Geek', '开放', '扁平管理']  开发|测试|运维类       数据开发   \n61        D轮及以上    ['技能培训', 'Geek', '开放', '扁平管理']  综合职能|高级管理         财务   \n62        D轮及以上    ['技能培训', 'Geek', '开放', '扁平管理']  开发|测试|运维类       数据开发   \n63           B轮   ['股票期权', '弹性工作', '领导好', '五险一金']  产品|需求|项目类       产品经理   \n64          未融资  ['弹性工作', '技能培训', '岗位晋升', '五险一金']  开发|测试|运维类       数据开发   \n65           B轮  ['股票期权', '绩效奖金', '带薪年假', '弹性工作']  产品|需求|项目类       数据分析   \n66         上市公司  ['绩效奖金', '股票期权', '五险一金', '午餐补助']  产品|需求|项目类       数据分析   \n67         上市公司  ['节日礼物', '技能培训', '免费班车', '带薪年假']  产品|需求|项目类       数据分析   \n68         上市公司   ['带薪年假', '定期体检', '免费班车', '领导好']  开发|测试|运维类       数据开发   \n69         上市公司  ['绩效奖金', '股票期权', '五险一金', '午餐补助']  开发|测试|运维类       数据开发   \n\n   thirdType  ... plus pcShow appShow deliver gradeDescription  \\\n60      数据分析  ...  NaN      0       0       0              NaN   \n61        财务  ...  NaN      0       0       0              NaN   \n62      数据分析  ...  NaN      0       0       0              NaN   \n63     数据分析师  ...  NaN      0       0       0              NaN   \n64      数据分析  ...  NaN      0       0       0              NaN   \n65      数据分析  ...  NaN      0       0       0              NaN   \n66      数据分析  ...  NaN      0       0       0              NaN   \n67      数据分析  ...  NaN      0       0       0              NaN   \n68      数据分析  ...  NaN      0       0       0              NaN   \n69      数据分析  ...  NaN      0       0       0              NaN   \n\n   promotionScoreExplain isHotHire  count aggregatePositionIds famousCompany  \n60                   NaN         0      0                   []          True  \n61                   NaN         0      0                   []          True  \n62                   NaN         0      0                   []          True  \n63                   NaN         0      0                   []         False  \n64                   NaN         0      0                   []         False  \n65                   NaN         0      0                   []         False  \n66                   NaN         0      0                   []          True  \n67                   NaN         0      0                   []          True  \n68                   NaN         0      0                   []          True  \n69                   NaN         0      0                   []          True  \n\n[10 rows x 52 columns]\n    positionId        positionName  companyId companySize industryField  \\\n70     6728610            高级数据分析专员      98316     2000人以上       电商,消费生活   \n71     6793844             BI数据分析师     555182     50-150人      移动互联网,电商   \n72     6794326             BI数据分析师     374014   500-2000人      移动互联网,金融   \n73     6819289               数据分析师      28103     2000人以上       消费生活,硬件   \n74     6837340        数据分析-2020届春招     205347     2000人以上         金融,电商   \n75     6698172               数据分析师       2900   500-2000人            电商   \n76     6896403        智能数据分析引擎研发专家     285786     2000人以上            电商   \n77     6854920       数据分析师(J10147)     343064     2000人以上            电商   \n78     5683671  数据分析实习生 (MJ000087)     114335    150-500人          数据服务   \n79     6046866               数据分析师     543802      15-50人          数据服务   \n\n   financeStage                    companyLabelList  firstType secondType  \\\n70         上市公司    ['午餐补助', '带薪年假', '定期体检', '年度旅游']     市场|商务类      市场|营销   \n71          天使轮                                  []  运营|编辑|客服类         运营   \n72           B轮     ['弹性工作', '扁平管理', '领导好', '五险一金']  产品|需求|项目类       数据分析   \n73         上市公司  ['定期体检', '五险一金', '专项奖金', '骨干家庭公寓']  产品|需求|项目类       数据分析   \n74         上市公司     ['带薪年假', '定期体检', '免费班车', '领导好']  产品|需求|项目类       数据分析   \n75           C轮    ['扁平化管理', '技术驱动', '14薪', '六险一金']  产品|需求|项目类       数据分析   \n76         上市公司    ['年底双薪', '带薪年假', '午餐补助', '弹性工作']  开发|测试|运维类       后端开发   \n77        不需要融资    ['绩效奖金', '交通补助', '带薪年假', '定期体检']  产品|需求|项目类       产品经理   \n78           B轮     ['股票期权', '弹性工作', '领导好', '五险一金']  开发|测试|运维类       后端开发   \n79        不需要融资                                  []  产品|需求|项目类       数据分析   \n\n   thirdType  ... plus pcShow appShow deliver gradeDescription  \\\n70    商业数据分析  ...  NaN      0       0       0              NaN   \n71        运营  ...  NaN      0       0       0              NaN   \n72        BI  ...  NaN      0       0       0              NaN   \n73      数据分析  ...  NaN      0       0       0              NaN   \n74      数据分析  ...  NaN      0       0       0              NaN   \n75      数据分析  ...  NaN      0       0       0              NaN   \n76      Java  ...  NaN      0       0       0              NaN   \n77     数据分析师  ...  NaN      0       0       0              NaN   \n78      数据采集  ...  NaN      0       0       0              NaN   \n79      数据分析  ...  NaN      0       0       0              NaN   \n\n   promotionScoreExplain isHotHire  count aggregatePositionIds famousCompany  \n70                   NaN         0      0                   []         False  \n71                   NaN         0      0                   []         False  \n72                   NaN         0      0                   []         False  \n73                   NaN         0      0                   []          True  \n74                   NaN         0      0                   []          True  \n75                   NaN         0      0                   []          True  \n76                   NaN         0      0                   []          True  \n77                   NaN         0      0                   []         False  \n78                   NaN         0      0                   []         False  \n79                   NaN         0      0                   []         False  \n\n[10 rows x 52 columns]\n    positionId             positionName  companyId companySize industryField  \\\n80     6310387                 业务与数据分析师      93448    150-500人     人工智能,数据服务   \n81     6602399          商业数据分析师（阿里数据银行）     100858     50-150人    移动互联网,广告营销   \n82     6820395  产品经理/数据分析（核心业务）-2020届春招     205347     2000人以上         金融,电商   \n83     6872841                  资深数据分析师        329     2000人以上            电商   \n84     6747553                  资深数据分析师     581460     2000人以上      电商,汽车丨出行   \n85     6792091                  高级数据分析师      23252   500-2000人         移动互联网   \n86     6496980               数据分析师-Lark         62     2000人以上         文娱丨内容   \n87     6095231           数据分析师-企业SaaS应用         62     2000人以上         文娱丨内容   \n88     6597345                  资深数据分析师      57350   500-2000人         移动互联网   \n89     6655791                     数据分析     289890   500-2000人            其他   \n\n   financeStage                      companyLabelList  firstType secondType  \\\n80           B轮      ['技能培训', '股票期权', '带薪年假', '绩效奖金']  产品|需求|项目类       数据分析   \n81          天使轮      ['节日礼物', '带薪年假', '绩效奖金', '五险一金']     市场|商务类      市场|营销   \n82         上市公司       ['带薪年假', '定期体检', '免费班车', '领导好']  产品|需求|项目类       产品经理   \n83         上市公司      ['节日礼物', '技能培训', '免费班车', '带薪年假']  开发|测试|运维类       数据开发   \n84        D轮及以上       ['阿里合资', '六险一金', '独角兽', '行业先驱']     市场|商务类      市场|营销   \n85         上市公司  ['包午餐晚餐', '奖金多多多', '零食下午茶', '全员出国游']  产品|需求|项目类       数据分析   \n86           C轮  ['扁平管理', '弹性工作', '大厨定制三餐', '就近租房补贴']  产品|需求|项目类       数据分析   \n87           C轮  ['扁平管理', '弹性工作', '大厨定制三餐', '就近租房补贴']  产品|需求|项目类       数据分析   \n88           A轮      ['岗位晋升', '年度旅游', '年底双薪', '午餐补助']  产品|需求|项目类       数据分析   \n89          未融资                                    []  产品|需求|项目类       数据分析   \n\n   thirdType  ... plus pcShow appShow deliver gradeDescription  \\\n80      数据分析  ...  NaN      0       0       0              NaN   \n81    商业数据分析  ...  NaN      0       0       0              NaN   \n82      产品经理  ...  NaN      0       0       0              NaN   \n83      数据分析  ...  NaN      0       0       0              NaN   \n84    商业数据分析  ...  NaN      0       0       0              NaN   \n85      数据分析  ...  NaN      0       0       0              NaN   \n86    其他数据分析  ...  NaN      0       0       0              NaN   \n87    其他数据分析  ...  NaN      0       0       0              NaN   \n88      数据分析  ...  NaN      0       0       0              NaN   \n89      数据分析  ...  NaN      0       0       0              NaN   \n\n   promotionScoreExplain isHotHire  count aggregatePositionIds famousCompany  \n80                   NaN         0      0                   []         False  \n81                   NaN         0      0                   []         False  \n82                   NaN         0      0                   []          True  \n83                   NaN         0      0                   []          True  \n84                   NaN         0      0                   []         False  \n85                   NaN         0      0                   []         False  \n86                   NaN         0      0                   []          True  \n87                   NaN         0      0                   []          True  \n88                   NaN         0      0                   []         False  \n89                   NaN         0      0                   []         False  \n\n[10 rows x 52 columns]\n    positionId   positionName  companyId companySize industryField  \\\n90     6456921         数据分析专家     738016     50-150人       电商,数据服务   \n91     6888169  奔驰耀出行-战略数据分析师     751158    150-500人         移动互联网   \n92     6813626       资深数据分析专员     165939    150-500人          数据服务   \n93     6785139          数据分析师     665061     50-150人          企业服务   \n94     6818950        资深数据分析师     165939    150-500人          数据服务   \n95     5269002        数据建模工程师      50576    150-500人      移动互联网,游戏   \n96     6767669         数据分析专员      92417     2000人以上    移动互联网,广告营销   \n97     6718750   旅游大数据分析师（杭州）     122019     50-150人     数据服务,企业服务   \n98     6655562      数据分析建模工程师  117422215     50-150人     数据服务,信息安全   \n99     6677939  数据分析建模工程师（校招）  117422215     50-150人     数据服务,信息安全   \n\n   financeStage                     companyLabelList  firstType secondType  \\\n90          未融资                                   []  开发|测试|运维类       数据开发   \n91        不需要融资                                   []  产品|需求|项目类       数据分析   \n92        不需要融资     ['年底双薪', '带薪年假', '午餐补助', '定期体检']  开发|测试|运维类       数据开发   \n93           B轮                                   []  开发|测试|运维类       数据开发   \n94        不需要融资     ['年底双薪', '带薪年假', '午餐补助', '定期体检']  开发|测试|运维类       数据开发   \n95           A轮       ['带薪年假', '五险一金', '双休', '午餐补助']  开发|测试|运维类       数据开发   \n96         上市公司     ['节日礼物', '股票期权', '带薪年假', '岗位晋升']  产品|需求|项目类       数据分析   \n97           A轮     ['年底双薪', '股票期权', '午餐补助', '定期体检']  开发|测试|运维类       数据开发   \n98           A轮  ['午餐补助', '带薪年假', '16到18薪', '法定节假日']  开发|测试|运维类       人工智能   \n99           A轮  ['午餐补助', '带薪年假', '16到18薪', '法定节假日']  开发|测试|运维类       人工智能   \n\n   thirdType  ... plus pcShow appShow deliver gradeDescription  \\\n90      数据分析  ...  NaN      0       0       0              NaN   \n91      数据分析  ...  NaN      0       0       0              NaN   \n92      数据分析  ...  NaN      0       0       0              NaN   \n93      数据分析  ...  NaN      0       0       0              NaN   \n94      数据分析  ...  NaN      0       0       0              NaN   \n95        建模  ...  NaN      0       0       0              NaN   \n96      数据分析  ...  NaN      0       0       0              NaN   \n97      数据治理  ...  NaN      0       0       0              NaN   \n98      机器学习  ...  NaN      0       0       0              NaN   \n99     算法工程师  ...  NaN      0       0       0              NaN   \n\n   promotionScoreExplain isHotHire  count aggregatePositionIds famousCompany  \n90                   NaN         0      0                   []         False  \n91                   NaN         0      0                   []         False  \n92                   NaN         0      0                   []         False  \n93                   NaN         0      0                   []         False  \n94                   NaN         0      0                   []         False  \n95                   NaN         0      0                   []         False  \n96                   NaN         0      0                   []         False  \n97                   NaN         0      0                   []         False  \n98                   NaN         0      0                   []         False  \n99                   NaN         0      0                   []         False  \n\n[10 rows x 52 columns]\n     positionId           positionName  companyId companySize industryField  \\\n100     6884346                  数据分析师      21236   500-2000人   移动互联网,医疗丨健康   \n101     6849100                 商业数据分析      72076   500-2000人      移动互联网,电商   \n102     6803432        奔驰·耀出行-BI数据分析专家     751158    150-500人         移动互联网   \n103     6704835                BI数据分析师      52840     2000人以上            电商   \n104     6728058  数据分析专家-LQ(J181203029)       2474     2000人以上         汽车丨出行   \n\n    financeStage                  companyLabelList  firstType secondType  \\\n100           C轮  ['技能培训', '年底双薪', '节日礼物', '绩效奖金']  产品|需求|项目类       数据分析   \n101           C轮  ['节日礼物', '股票期权', '带薪年假', '年度旅游']     市场|商务类      市场|营销   \n102        不需要融资                                []  开发|测试|运维类       数据开发   \n103         上市公司  ['技能培训', '年底双薪', '节日礼物', '绩效奖金']  开发|测试|运维类       数据开发   \n104        不需要融资  ['弹性工作', '节日礼物', '岗位晋升', '技能培训']  产品|需求|项目类       数据分析   \n\n    thirdType  ... plus pcShow appShow deliver gradeDescription  \\\n100      数据分析  ...  NaN      0       0       0              NaN   \n101    商业数据分析  ...  NaN      0       0       0              NaN   \n102      数据分析  ...  NaN      0       0       0              NaN   \n103      数据分析  ...  NaN      0       0       0              NaN   \n104    其他数据分析  ...  NaN      0       0       0              NaN   \n\n    promotionScoreExplain isHotHire  count aggregatePositionIds famousCompany  \n100                   NaN         0      0                   []         False  \n101                   NaN         0      0                   []         False  \n102                   NaN         0      0                   []         False  \n103                   NaN         0      0                   []          True  \n104                   NaN         0      0                   []          True  \n\n[5 rows x 52 columns]\n"
     ]
    }
   ],
   "source": [
    "data = pd.read_csv(\"某招聘网站数据.csv\", chunksize=10)\n",
    "for chunk in data:\n",
    "    print(chunk)"
   ]
  },
  {
   "cell_type": "code",
   "execution_count": 61,
   "metadata": {},
   "outputs": [
    {
     "output_type": "execute_result",
     "data": {
      "text/plain": [
       "<pandas.io.parsers.readers.TextFileReader at 0x122403040>"
      ]
     },
     "metadata": {},
     "execution_count": 61
    }
   ],
   "source": [
    "data"
   ]
  },
  {
   "cell_type": "markdown",
   "metadata": {},
   "source": [
    "### 17 读取 txt 文件｜常规\n",
    "\n",
    "<br>\n",
    "\n",
    "读取当前目录下 `Titanic.txt` 文件。\n",
    "\n",
    "注意：在接下来的几种格式文件读取中，对于之前重复的参数/功能将不再整理，仅介绍读取功能。"
   ]
  },
  {
   "cell_type": "code",
   "execution_count": 65,
   "metadata": {},
   "outputs": [
    {
     "output_type": "execute_result",
     "data": {
      "text/plain": [
       "                                                   0\n",
       "0         version https://git-lfs.github.com/spec/v1\n",
       "1  oid sha256:c5a58dbb3c71f7e6ea1593430e58b31b359...\n",
       "2                                         size 28627"
      ],
      "text/html": "<div>\n<style scoped>\n    .dataframe tbody tr th:only-of-type {\n        vertical-align: middle;\n    }\n\n    .dataframe tbody tr th {\n        vertical-align: top;\n    }\n\n    .dataframe thead th {\n        text-align: right;\n    }\n</style>\n<table border=\"1\" class=\"dataframe\">\n  <thead>\n    <tr style=\"text-align: right;\">\n      <th></th>\n      <th>0</th>\n    </tr>\n  </thead>\n  <tbody>\n    <tr>\n      <th>0</th>\n      <td>version https://git-lfs.github.com/spec/v1</td>\n    </tr>\n    <tr>\n      <th>1</th>\n      <td>oid sha256:c5a58dbb3c71f7e6ea1593430e58b31b359...</td>\n    </tr>\n    <tr>\n      <th>2</th>\n      <td>size 28627</td>\n    </tr>\n  </tbody>\n</table>\n</div>"
     },
     "metadata": {},
     "execution_count": 65
    }
   ],
   "source": [
    "data = pd.read_csv('Titanic.txt',header=None)\n",
    "data.head(n=10)"
   ]
  },
  {
   "cell_type": "markdown",
   "metadata": {},
   "source": [
    "### 18 读取 txt 文件｜含中文\n",
    "\n",
    "<br>\n",
    "\n",
    "读取当前目录下 `TOP250.txt` 文件。"
   ]
  },
  {
   "cell_type": "code",
   "execution_count": 66,
   "metadata": {},
   "outputs": [
    {
     "output_type": "execute_result",
     "data": {
      "text/plain": [
       "                                                   0\n",
       "0         version https://git-lfs.github.com/spec/v1\n",
       "1  oid sha256:fc07222d2c2b9525d9f0328b0a76beafa8a...\n",
       "2                                         size 90329"
      ],
      "text/html": "<div>\n<style scoped>\n    .dataframe tbody tr th:only-of-type {\n        vertical-align: middle;\n    }\n\n    .dataframe tbody tr th {\n        vertical-align: top;\n    }\n\n    .dataframe thead th {\n        text-align: right;\n    }\n</style>\n<table border=\"1\" class=\"dataframe\">\n  <thead>\n    <tr style=\"text-align: right;\">\n      <th></th>\n      <th>0</th>\n    </tr>\n  </thead>\n  <tbody>\n    <tr>\n      <th>0</th>\n      <td>version https://git-lfs.github.com/spec/v1</td>\n    </tr>\n    <tr>\n      <th>1</th>\n      <td>oid sha256:fc07222d2c2b9525d9f0328b0a76beafa8a...</td>\n    </tr>\n    <tr>\n      <th>2</th>\n      <td>size 90329</td>\n    </tr>\n  </tbody>\n</table>\n</div>"
     },
     "metadata": {},
     "execution_count": 66
    }
   ],
   "source": [
    "data = pd.read_csv('TOP250.txt',header=None)\n",
    "data.head(n=10)"
   ]
  },
  {
   "cell_type": "markdown",
   "metadata": {},
   "source": [
    "### 19 读取 JSON 文件\n",
    "\n",
    "\n",
    "\n",
    "<br>\n",
    "\n",
    "读取当前目录下 `某基金数据.json` 文件。"
   ]
  },
  {
   "cell_type": "code",
   "execution_count": 67,
   "metadata": {},
   "outputs": [
    {
     "output_type": "execute_result",
     "data": {
      "text/plain": [
       "         净值日期   单位净值   累计净值    日增长率  申购状态  赎回状态  分红送配\n",
       "0  2020-02-13  1.884  1.884  -0.11%  开放申购  开放赎回   NaN\n",
       "1  2020-02-12  1.886  1.886   3.34%  开放申购  开放赎回   NaN\n",
       "2  2020-02-11  1.825  1.825  -0.16%  开放申购  开放赎回   NaN\n",
       "3  2020-02-10  1.828  1.828   1.33%  开放申购  开放赎回   NaN\n",
       "4  2020-02-07  1.804  1.804   0.61%  开放申购  开放赎回   NaN\n",
       "5  2020-02-06  1.793  1.793   3.11%  开放申购  开放赎回   NaN\n",
       "6  2020-02-05  1.739  1.739   1.64%  开放申购  开放赎回   NaN\n",
       "7  2020-02-04  1.711  1.711   7.34%  开放申购  开放赎回   NaN\n",
       "8  2020-02-03  1.594  1.594  -7.22%  开放申购  开放赎回   NaN\n",
       "9  2020-01-23  1.718  1.718  -2.05%  开放申购  开放赎回   NaN"
      ],
      "text/html": "<div>\n<style scoped>\n    .dataframe tbody tr th:only-of-type {\n        vertical-align: middle;\n    }\n\n    .dataframe tbody tr th {\n        vertical-align: top;\n    }\n\n    .dataframe thead th {\n        text-align: right;\n    }\n</style>\n<table border=\"1\" class=\"dataframe\">\n  <thead>\n    <tr style=\"text-align: right;\">\n      <th></th>\n      <th>净值日期</th>\n      <th>单位净值</th>\n      <th>累计净值</th>\n      <th>日增长率</th>\n      <th>申购状态</th>\n      <th>赎回状态</th>\n      <th>分红送配</th>\n    </tr>\n  </thead>\n  <tbody>\n    <tr>\n      <th>0</th>\n      <td>2020-02-13</td>\n      <td>1.884</td>\n      <td>1.884</td>\n      <td>-0.11%</td>\n      <td>开放申购</td>\n      <td>开放赎回</td>\n      <td>NaN</td>\n    </tr>\n    <tr>\n      <th>1</th>\n      <td>2020-02-12</td>\n      <td>1.886</td>\n      <td>1.886</td>\n      <td>3.34%</td>\n      <td>开放申购</td>\n      <td>开放赎回</td>\n      <td>NaN</td>\n    </tr>\n    <tr>\n      <th>2</th>\n      <td>2020-02-11</td>\n      <td>1.825</td>\n      <td>1.825</td>\n      <td>-0.16%</td>\n      <td>开放申购</td>\n      <td>开放赎回</td>\n      <td>NaN</td>\n    </tr>\n    <tr>\n      <th>3</th>\n      <td>2020-02-10</td>\n      <td>1.828</td>\n      <td>1.828</td>\n      <td>1.33%</td>\n      <td>开放申购</td>\n      <td>开放赎回</td>\n      <td>NaN</td>\n    </tr>\n    <tr>\n      <th>4</th>\n      <td>2020-02-07</td>\n      <td>1.804</td>\n      <td>1.804</td>\n      <td>0.61%</td>\n      <td>开放申购</td>\n      <td>开放赎回</td>\n      <td>NaN</td>\n    </tr>\n    <tr>\n      <th>5</th>\n      <td>2020-02-06</td>\n      <td>1.793</td>\n      <td>1.793</td>\n      <td>3.11%</td>\n      <td>开放申购</td>\n      <td>开放赎回</td>\n      <td>NaN</td>\n    </tr>\n    <tr>\n      <th>6</th>\n      <td>2020-02-05</td>\n      <td>1.739</td>\n      <td>1.739</td>\n      <td>1.64%</td>\n      <td>开放申购</td>\n      <td>开放赎回</td>\n      <td>NaN</td>\n    </tr>\n    <tr>\n      <th>7</th>\n      <td>2020-02-04</td>\n      <td>1.711</td>\n      <td>1.711</td>\n      <td>7.34%</td>\n      <td>开放申购</td>\n      <td>开放赎回</td>\n      <td>NaN</td>\n    </tr>\n    <tr>\n      <th>8</th>\n      <td>2020-02-03</td>\n      <td>1.594</td>\n      <td>1.594</td>\n      <td>-7.22%</td>\n      <td>开放申购</td>\n      <td>开放赎回</td>\n      <td>NaN</td>\n    </tr>\n    <tr>\n      <th>9</th>\n      <td>2020-01-23</td>\n      <td>1.718</td>\n      <td>1.718</td>\n      <td>-2.05%</td>\n      <td>开放申购</td>\n      <td>开放赎回</td>\n      <td>NaN</td>\n    </tr>\n  </tbody>\n</table>\n</div>"
     },
     "metadata": {},
     "execution_count": 67
    }
   ],
   "source": [
    "data = pd.read_json('某基金数据.json')\n",
    "data.head(n=10)"
   ]
  },
  {
   "cell_type": "markdown",
   "metadata": {},
   "source": [
    "### 20 读取 HDF5 文件\n",
    "\n",
    "<br>\n",
    "\n",
    "`HDF5`是一种特殊的文件格式，常见于在大规模存储数据上\n",
    "\n",
    "关于 `pandas` 与 `hdf5` 格式文件的操作较多，下面仅学习如何读取。\n",
    "\n",
    "读取当前目录下`store_tl.h5`文件"
   ]
  },
  {
   "cell_type": "code",
   "execution_count": 68,
   "metadata": {},
   "outputs": [
    {
     "output_type": "error",
     "ename": "ImportError",
     "evalue": "Missing optional dependency 'tables'.  Use pip or conda to install tables.",
     "traceback": [
      "\u001b[0;31m---------------------------------------------------------------------------\u001b[0m",
      "\u001b[0;31mImportError\u001b[0m                               Traceback (most recent call last)",
      "\u001b[0;32m/var/folders/8_/yx1nd33x7c98r1fz6bjv9xtr0000gn/T/ipykernel_1862/2609353530.py\u001b[0m in \u001b[0;36m<module>\u001b[0;34m\u001b[0m\n\u001b[0;32m----> 1\u001b[0;31m \u001b[0mdata\u001b[0m \u001b[0;34m=\u001b[0m \u001b[0mpd\u001b[0m\u001b[0;34m.\u001b[0m\u001b[0mread_hdf\u001b[0m\u001b[0;34m(\u001b[0m\u001b[0;34m'store_tl.h5'\u001b[0m\u001b[0;34m)\u001b[0m\u001b[0;34m\u001b[0m\u001b[0;34m\u001b[0m\u001b[0m\n\u001b[0m\u001b[1;32m      2\u001b[0m \u001b[0mdata\u001b[0m\u001b[0;34m.\u001b[0m\u001b[0mhead\u001b[0m\u001b[0;34m(\u001b[0m\u001b[0;34m)\u001b[0m\u001b[0;34m\u001b[0m\u001b[0;34m\u001b[0m\u001b[0m\n",
      "\u001b[0;32m/usr/local/lib/python3.9/site-packages/pandas/io/pytables.py\u001b[0m in \u001b[0;36mread_hdf\u001b[0;34m(path_or_buf, key, mode, errors, where, start, stop, columns, iterator, chunksize, **kwargs)\u001b[0m\n\u001b[1;32m    427\u001b[0m             \u001b[0;32mraise\u001b[0m \u001b[0mFileNotFoundError\u001b[0m\u001b[0;34m(\u001b[0m\u001b[0;34mf\"File {path_or_buf} does not exist\"\u001b[0m\u001b[0;34m)\u001b[0m\u001b[0;34m\u001b[0m\u001b[0;34m\u001b[0m\u001b[0m\n\u001b[1;32m    428\u001b[0m \u001b[0;34m\u001b[0m\u001b[0m\n\u001b[0;32m--> 429\u001b[0;31m         \u001b[0mstore\u001b[0m \u001b[0;34m=\u001b[0m \u001b[0mHDFStore\u001b[0m\u001b[0;34m(\u001b[0m\u001b[0mpath_or_buf\u001b[0m\u001b[0;34m,\u001b[0m \u001b[0mmode\u001b[0m\u001b[0;34m=\u001b[0m\u001b[0mmode\u001b[0m\u001b[0;34m,\u001b[0m \u001b[0merrors\u001b[0m\u001b[0;34m=\u001b[0m\u001b[0merrors\u001b[0m\u001b[0;34m,\u001b[0m \u001b[0;34m**\u001b[0m\u001b[0mkwargs\u001b[0m\u001b[0;34m)\u001b[0m\u001b[0;34m\u001b[0m\u001b[0;34m\u001b[0m\u001b[0m\n\u001b[0m\u001b[1;32m    430\u001b[0m         \u001b[0;31m# can't auto open/close if we are using an iterator\u001b[0m\u001b[0;34m\u001b[0m\u001b[0;34m\u001b[0m\u001b[0m\n\u001b[1;32m    431\u001b[0m         \u001b[0;31m# so delegate to the iterator\u001b[0m\u001b[0;34m\u001b[0m\u001b[0;34m\u001b[0m\u001b[0m\n",
      "\u001b[0;32m/usr/local/lib/python3.9/site-packages/pandas/io/pytables.py\u001b[0m in \u001b[0;36m__init__\u001b[0;34m(self, path, mode, complevel, complib, fletcher32, **kwargs)\u001b[0m\n\u001b[1;32m    570\u001b[0m             \u001b[0;32mraise\u001b[0m \u001b[0mValueError\u001b[0m\u001b[0;34m(\u001b[0m\u001b[0;34m\"format is not a defined argument for HDFStore\"\u001b[0m\u001b[0;34m)\u001b[0m\u001b[0;34m\u001b[0m\u001b[0;34m\u001b[0m\u001b[0m\n\u001b[1;32m    571\u001b[0m \u001b[0;34m\u001b[0m\u001b[0m\n\u001b[0;32m--> 572\u001b[0;31m         \u001b[0mtables\u001b[0m \u001b[0;34m=\u001b[0m \u001b[0mimport_optional_dependency\u001b[0m\u001b[0;34m(\u001b[0m\u001b[0;34m\"tables\"\u001b[0m\u001b[0;34m)\u001b[0m\u001b[0;34m\u001b[0m\u001b[0;34m\u001b[0m\u001b[0m\n\u001b[0m\u001b[1;32m    573\u001b[0m \u001b[0;34m\u001b[0m\u001b[0m\n\u001b[1;32m    574\u001b[0m         \u001b[0;32mif\u001b[0m \u001b[0mcomplib\u001b[0m \u001b[0;32mis\u001b[0m \u001b[0;32mnot\u001b[0m \u001b[0;32mNone\u001b[0m \u001b[0;32mand\u001b[0m \u001b[0mcomplib\u001b[0m \u001b[0;32mnot\u001b[0m \u001b[0;32min\u001b[0m \u001b[0mtables\u001b[0m\u001b[0;34m.\u001b[0m\u001b[0mfilters\u001b[0m\u001b[0;34m.\u001b[0m\u001b[0mall_complibs\u001b[0m\u001b[0;34m:\u001b[0m\u001b[0;34m\u001b[0m\u001b[0;34m\u001b[0m\u001b[0m\n",
      "\u001b[0;32m/usr/local/lib/python3.9/site-packages/pandas/compat/_optional.py\u001b[0m in \u001b[0;36mimport_optional_dependency\u001b[0;34m(name, extra, errors, min_version)\u001b[0m\n\u001b[1;32m    116\u001b[0m     \u001b[0;32mexcept\u001b[0m \u001b[0mImportError\u001b[0m\u001b[0;34m:\u001b[0m\u001b[0;34m\u001b[0m\u001b[0;34m\u001b[0m\u001b[0m\n\u001b[1;32m    117\u001b[0m         \u001b[0;32mif\u001b[0m \u001b[0merrors\u001b[0m \u001b[0;34m==\u001b[0m \u001b[0;34m\"raise\"\u001b[0m\u001b[0;34m:\u001b[0m\u001b[0;34m\u001b[0m\u001b[0;34m\u001b[0m\u001b[0m\n\u001b[0;32m--> 118\u001b[0;31m             \u001b[0;32mraise\u001b[0m \u001b[0mImportError\u001b[0m\u001b[0;34m(\u001b[0m\u001b[0mmsg\u001b[0m\u001b[0;34m)\u001b[0m \u001b[0;32mfrom\u001b[0m \u001b[0;32mNone\u001b[0m\u001b[0;34m\u001b[0m\u001b[0;34m\u001b[0m\u001b[0m\n\u001b[0m\u001b[1;32m    119\u001b[0m         \u001b[0;32melse\u001b[0m\u001b[0;34m:\u001b[0m\u001b[0;34m\u001b[0m\u001b[0;34m\u001b[0m\u001b[0m\n\u001b[1;32m    120\u001b[0m             \u001b[0;32mreturn\u001b[0m \u001b[0;32mNone\u001b[0m\u001b[0;34m\u001b[0m\u001b[0;34m\u001b[0m\u001b[0m\n",
      "\u001b[0;31mImportError\u001b[0m: Missing optional dependency 'tables'.  Use pip or conda to install tables."
     ]
    }
   ],
   "source": [
    "data = pd.read_hdf('store_tl.h5')\n",
    "data.head()"
   ]
  },
  {
   "cell_type": "markdown",
   "metadata": {},
   "source": [
    "微信搜索公众号「早起Python」，关注后可以获得更多资源！"
   ]
  },
  {
   "cell_type": "code",
   "execution_count": null,
   "metadata": {},
   "outputs": [],
   "source": []
  },
  {
   "cell_type": "markdown",
   "metadata": {},
   "source": [
    "### 21 从剪贴板读取数据\n",
    "\n",
    "<br>\n",
    "\n",
    "打开当前目录下 `Titanic.txt` 文件，全选并复制。\n",
    "\n",
    "现在直接从剪贴板读取数据。"
   ]
  },
  {
   "cell_type": "code",
   "execution_count": 72,
   "metadata": {},
   "outputs": [
    {
     "output_type": "execute_result",
     "data": {
      "text/plain": [
       "         0                                                  1\n",
       "0  version                 https://git-lfs.github.com/spec/v1\n",
       "1      oid  sha256:c5a58dbb3c71f7e6ea1593430e58b31b359d65c...\n",
       "2     size                                              28627"
      ],
      "text/html": "<div>\n<style scoped>\n    .dataframe tbody tr th:only-of-type {\n        vertical-align: middle;\n    }\n\n    .dataframe tbody tr th {\n        vertical-align: top;\n    }\n\n    .dataframe thead th {\n        text-align: right;\n    }\n</style>\n<table border=\"1\" class=\"dataframe\">\n  <thead>\n    <tr style=\"text-align: right;\">\n      <th></th>\n      <th>0</th>\n      <th>1</th>\n    </tr>\n  </thead>\n  <tbody>\n    <tr>\n      <th>0</th>\n      <td>version</td>\n      <td>https://git-lfs.github.com/spec/v1</td>\n    </tr>\n    <tr>\n      <th>1</th>\n      <td>oid</td>\n      <td>sha256:c5a58dbb3c71f7e6ea1593430e58b31b359d65c...</td>\n    </tr>\n    <tr>\n      <th>2</th>\n      <td>size</td>\n      <td>28627</td>\n    </tr>\n  </tbody>\n</table>\n</div>"
     },
     "metadata": {},
     "execution_count": 72
    }
   ],
   "source": [
    "data = pd.read_clipboard(header=None)\n",
    "data.head()"
   ]
  },
  {
   "cell_type": "markdown",
   "metadata": {},
   "source": [
    "### 22 从 SQL 读取数据\n",
    "\n",
    "<br>\n",
    "\n",
    "有时我们需要从 `SQL` 中读取数据，如果先将数据导出再`pandas`读取并不是一个合适的选择。\n",
    "\n",
    "在 `pandas` 中支持直接从 `sql` 中查询并读取。\n",
    "\n",
    "为了方便统一操作，请先执行下面的代码创建数据。"
   ]
  },
  {
   "cell_type": "code",
   "execution_count": 4,
   "metadata": {},
   "outputs": [],
   "source": [
    "from sqlite3 import connect\n",
    "conn = connect(':memory:')\n",
    "df = pd.DataFrame(data=[[0, '10/11/12'], [1, '12/11/10']],\n",
    "                  columns=['int_column', 'date_column'])\n",
    "df.to_sql('test_data', conn)"
   ]
  },
  {
   "cell_type": "markdown",
   "metadata": {},
   "source": [
    "下面将 `SQL` 语句 `SELECT int_column, date_column FROM test_data` 转换为 `DataFrame`"
   ]
  },
  {
   "cell_type": "code",
   "execution_count": 78,
   "metadata": {},
   "outputs": [
    {
     "output_type": "execute_result",
     "data": {
      "text/plain": [
       "   int_column date_column\n",
       "0           0    10/11/12\n",
       "1           1    12/11/10"
      ],
      "text/html": "<div>\n<style scoped>\n    .dataframe tbody tr th:only-of-type {\n        vertical-align: middle;\n    }\n\n    .dataframe tbody tr th {\n        vertical-align: top;\n    }\n\n    .dataframe thead th {\n        text-align: right;\n    }\n</style>\n<table border=\"1\" class=\"dataframe\">\n  <thead>\n    <tr style=\"text-align: right;\">\n      <th></th>\n      <th>int_column</th>\n      <th>date_column</th>\n    </tr>\n  </thead>\n  <tbody>\n    <tr>\n      <th>0</th>\n      <td>0</td>\n      <td>10/11/12</td>\n    </tr>\n    <tr>\n      <th>1</th>\n      <td>1</td>\n      <td>12/11/10</td>\n    </tr>\n  </tbody>\n</table>\n</div>"
     },
     "metadata": {},
     "execution_count": 78
    }
   ],
   "source": [
    "data = pd.read_sql_query(\"select int_column, date_column FROM test_data\", conn)\n",
    "data.head()"
   ]
  },
  {
   "cell_type": "markdown",
   "metadata": {},
   "source": [
    "### 23 从网页读取数据\n",
    "\n",
    "<br>\n",
    "\n",
    "直接从东京奥运会官网读取奖牌榜数据。\n",
    "\n",
    "目标网站地址为 `https://olympics.com/tokyo-2020/olympic-games/zh/results/all-sports/medal-standings.htm`\n",
    "\n",
    "思考：什么类型的在线表格可以直接读取？"
   ]
  },
  {
   "cell_type": "code",
   "execution_count": 5,
   "metadata": {},
   "outputs": [
    {
     "output_type": "error",
     "ename": "ImportError",
     "evalue": "BeautifulSoup4 (bs4) not found, please install it",
     "traceback": [
      "\u001b[0;31m---------------------------------------------------------------------------\u001b[0m",
      "\u001b[0;31mImportError\u001b[0m                               Traceback (most recent call last)",
      "\u001b[0;32m/var/folders/8_/yx1nd33x7c98r1fz6bjv9xtr0000gn/T/ipykernel_1877/4008855514.py\u001b[0m in \u001b[0;36m<module>\u001b[0;34m\u001b[0m\n\u001b[1;32m      1\u001b[0m \u001b[0;32mimport\u001b[0m \u001b[0mpandas\u001b[0m \u001b[0;32mas\u001b[0m \u001b[0mpd\u001b[0m\u001b[0;34m\u001b[0m\u001b[0;34m\u001b[0m\u001b[0m\n\u001b[0;32m----> 2\u001b[0;31m \u001b[0mdata\u001b[0m \u001b[0;34m=\u001b[0m \u001b[0mpd\u001b[0m\u001b[0;34m.\u001b[0m\u001b[0mread_html\u001b[0m\u001b[0;34m(\u001b[0m\u001b[0;34m'http://olympics.com/tokyo-2020/olympic-games/zh/results/all-sports/medal-standings.htm'\u001b[0m\u001b[0;34m)\u001b[0m\u001b[0;34m\u001b[0m\u001b[0;34m\u001b[0m\u001b[0m\n\u001b[0m\u001b[1;32m      3\u001b[0m \u001b[0mdata\u001b[0m\u001b[0;34m.\u001b[0m\u001b[0mhead\u001b[0m\u001b[0;34m(\u001b[0m\u001b[0;34m)\u001b[0m\u001b[0;34m\u001b[0m\u001b[0;34m\u001b[0m\u001b[0m\n",
      "\u001b[0;32m/usr/local/lib/python3.9/site-packages/pandas/util/_decorators.py\u001b[0m in \u001b[0;36mwrapper\u001b[0;34m(*args, **kwargs)\u001b[0m\n\u001b[1;32m    309\u001b[0m                     \u001b[0mstacklevel\u001b[0m\u001b[0;34m=\u001b[0m\u001b[0mstacklevel\u001b[0m\u001b[0;34m,\u001b[0m\u001b[0;34m\u001b[0m\u001b[0;34m\u001b[0m\u001b[0m\n\u001b[1;32m    310\u001b[0m                 )\n\u001b[0;32m--> 311\u001b[0;31m             \u001b[0;32mreturn\u001b[0m \u001b[0mfunc\u001b[0m\u001b[0;34m(\u001b[0m\u001b[0;34m*\u001b[0m\u001b[0margs\u001b[0m\u001b[0;34m,\u001b[0m \u001b[0;34m**\u001b[0m\u001b[0mkwargs\u001b[0m\u001b[0;34m)\u001b[0m\u001b[0;34m\u001b[0m\u001b[0;34m\u001b[0m\u001b[0m\n\u001b[0m\u001b[1;32m    312\u001b[0m \u001b[0;34m\u001b[0m\u001b[0m\n\u001b[1;32m    313\u001b[0m         \u001b[0;32mreturn\u001b[0m \u001b[0mwrapper\u001b[0m\u001b[0;34m\u001b[0m\u001b[0;34m\u001b[0m\u001b[0m\n",
      "\u001b[0;32m/usr/local/lib/python3.9/site-packages/pandas/io/html.py\u001b[0m in \u001b[0;36mread_html\u001b[0;34m(io, match, flavor, header, index_col, skiprows, attrs, parse_dates, thousands, encoding, decimal, converters, na_values, keep_default_na, displayed_only)\u001b[0m\n\u001b[1;32m   1096\u001b[0m     \u001b[0mio\u001b[0m \u001b[0;34m=\u001b[0m \u001b[0mstringify_path\u001b[0m\u001b[0;34m(\u001b[0m\u001b[0mio\u001b[0m\u001b[0;34m)\u001b[0m\u001b[0;34m\u001b[0m\u001b[0;34m\u001b[0m\u001b[0m\n\u001b[1;32m   1097\u001b[0m \u001b[0;34m\u001b[0m\u001b[0m\n\u001b[0;32m-> 1098\u001b[0;31m     return _parse(\n\u001b[0m\u001b[1;32m   1099\u001b[0m         \u001b[0mflavor\u001b[0m\u001b[0;34m=\u001b[0m\u001b[0mflavor\u001b[0m\u001b[0;34m,\u001b[0m\u001b[0;34m\u001b[0m\u001b[0;34m\u001b[0m\u001b[0m\n\u001b[1;32m   1100\u001b[0m         \u001b[0mio\u001b[0m\u001b[0;34m=\u001b[0m\u001b[0mio\u001b[0m\u001b[0;34m,\u001b[0m\u001b[0;34m\u001b[0m\u001b[0;34m\u001b[0m\u001b[0m\n",
      "\u001b[0;32m/usr/local/lib/python3.9/site-packages/pandas/io/html.py\u001b[0m in \u001b[0;36m_parse\u001b[0;34m(flavor, io, match, attrs, encoding, displayed_only, **kwargs)\u001b[0m\n\u001b[1;32m    900\u001b[0m     \u001b[0mretained\u001b[0m \u001b[0;34m=\u001b[0m \u001b[0;32mNone\u001b[0m\u001b[0;34m\u001b[0m\u001b[0;34m\u001b[0m\u001b[0m\n\u001b[1;32m    901\u001b[0m     \u001b[0;32mfor\u001b[0m \u001b[0mflav\u001b[0m \u001b[0;32min\u001b[0m \u001b[0mflavor\u001b[0m\u001b[0;34m:\u001b[0m\u001b[0;34m\u001b[0m\u001b[0;34m\u001b[0m\u001b[0m\n\u001b[0;32m--> 902\u001b[0;31m         \u001b[0mparser\u001b[0m \u001b[0;34m=\u001b[0m \u001b[0m_parser_dispatch\u001b[0m\u001b[0;34m(\u001b[0m\u001b[0mflav\u001b[0m\u001b[0;34m)\u001b[0m\u001b[0;34m\u001b[0m\u001b[0;34m\u001b[0m\u001b[0m\n\u001b[0m\u001b[1;32m    903\u001b[0m         \u001b[0mp\u001b[0m \u001b[0;34m=\u001b[0m \u001b[0mparser\u001b[0m\u001b[0;34m(\u001b[0m\u001b[0mio\u001b[0m\u001b[0;34m,\u001b[0m \u001b[0mcompiled_match\u001b[0m\u001b[0;34m,\u001b[0m \u001b[0mattrs\u001b[0m\u001b[0;34m,\u001b[0m \u001b[0mencoding\u001b[0m\u001b[0;34m,\u001b[0m \u001b[0mdisplayed_only\u001b[0m\u001b[0;34m)\u001b[0m\u001b[0;34m\u001b[0m\u001b[0;34m\u001b[0m\u001b[0m\n\u001b[1;32m    904\u001b[0m \u001b[0;34m\u001b[0m\u001b[0m\n",
      "\u001b[0;32m/usr/local/lib/python3.9/site-packages/pandas/io/html.py\u001b[0m in \u001b[0;36m_parser_dispatch\u001b[0;34m(flavor)\u001b[0m\n\u001b[1;32m    851\u001b[0m             \u001b[0;32mraise\u001b[0m \u001b[0mImportError\u001b[0m\u001b[0;34m(\u001b[0m\u001b[0;34m\"html5lib not found, please install it\"\u001b[0m\u001b[0;34m)\u001b[0m\u001b[0;34m\u001b[0m\u001b[0;34m\u001b[0m\u001b[0m\n\u001b[1;32m    852\u001b[0m         \u001b[0;32mif\u001b[0m \u001b[0;32mnot\u001b[0m \u001b[0m_HAS_BS4\u001b[0m\u001b[0;34m:\u001b[0m\u001b[0;34m\u001b[0m\u001b[0;34m\u001b[0m\u001b[0m\n\u001b[0;32m--> 853\u001b[0;31m             \u001b[0;32mraise\u001b[0m \u001b[0mImportError\u001b[0m\u001b[0;34m(\u001b[0m\u001b[0;34m\"BeautifulSoup4 (bs4) not found, please install it\"\u001b[0m\u001b[0;34m)\u001b[0m\u001b[0;34m\u001b[0m\u001b[0;34m\u001b[0m\u001b[0m\n\u001b[0m\u001b[1;32m    854\u001b[0m         \u001b[0;31m# Although we call this above, we want to raise here right before use.\u001b[0m\u001b[0;34m\u001b[0m\u001b[0;34m\u001b[0m\u001b[0m\n\u001b[1;32m    855\u001b[0m         \u001b[0mbs4\u001b[0m \u001b[0;34m=\u001b[0m \u001b[0mimport_optional_dependency\u001b[0m\u001b[0;34m(\u001b[0m\u001b[0;34m\"bs4\"\u001b[0m\u001b[0;34m)\u001b[0m  \u001b[0;31m# noqa:F841\u001b[0m\u001b[0;34m\u001b[0m\u001b[0;34m\u001b[0m\u001b[0m\n",
      "\u001b[0;31mImportError\u001b[0m: BeautifulSoup4 (bs4) not found, please install it"
     ]
    }
   ],
   "source": [
    "import pandas as pd\n",
    "data = pd.read_html('http://olympics.com/tokyo-2020/olympic-games/zh/results/all-sports/medal-standings.htm')\n",
    "data.head()"
   ]
  },
  {
   "cell_type": "markdown",
   "metadata": {},
   "source": [
    "### 24 循环读取数据\n",
    "\n",
    "<br>\n",
    "\n",
    "在本小节 `demodata` 文件夹下有多个 `Excel` 文件，要求一次性循环读取全部文件"
   ]
  },
  {
   "cell_type": "code",
   "execution_count": 9,
   "metadata": {},
   "outputs": [
    {
     "output_type": "stream",
     "name": "stdout",
     "text": [
      "[             日期  日增长率    涨跌          持有金额   剩余本金   操作           总资产\n0    2020-01-02  1.63    up      0.000000  20000  NaN  20000.000000\n1    2020-01-03  1.22    up      0.000000  20000  NaN  20000.000000\n2    2020-01-06  1.09    up      0.000000  20000  NaN  20000.000000\n3    2020-01-07  0.69    up      0.000000  20000  NaN  20000.000000\n4    2020-01-08  0.12    up      0.000000  20000  NaN  20000.000000\n..          ...   ...   ...           ...    ...  ...           ...\n336  2021-05-26 -0.23  down  19036.737094   4900  NaN  23936.737094\n337  2021-05-27  1.19    up  19263.274266   4900  buy  24163.274266\n338  2021-05-28 -0.11  down  19341.824829   4800  NaN  24141.824829\n339  2021-05-31  2.77    up  19877.593377   4800  buy  24677.593377\n340  2021-06-01 -0.87  down  19803.639619   4700  NaN  24503.639619\n\n[341 rows x 7 columns],              日期  日增长率    涨跌          持有金额   剩余本金   操作           总资产\n0    2020-01-02  0.03    up      0.000000  20000  NaN  20000.000000\n1    2020-01-03 -1.44  down      0.000000  20000  NaN  20000.000000\n2    2020-01-06 -0.70  down      0.000000  20000  buy  20000.000000\n3    2020-01-07  1.00    up    100.848500  19900  buy  20000.848500\n4    2020-01-08  0.26    up    201.220316  19800  NaN  20001.220316\n..          ...   ...   ...           ...    ...  ...           ...\n336  2021-05-26 -0.86  down  18667.489133   6600  NaN  25267.489133\n337  2021-05-27  0.15    up  18695.490366   6600  buy  25295.490366\n338  2021-05-28 -0.44  down  18712.640869   6500  NaN  25212.640869\n339  2021-05-31 -0.22  down  18671.473059   6500  buy  25171.473059\n340  2021-06-01  0.17    up  18803.234308   6400  buy  25203.234308\n\n[341 rows x 7 columns],              日期  日增长率    涨跌          持有金额   剩余本金   操作           总资产\n0    2020-01-02  0.83    up      0.000000  20000  NaN  20000.000000\n1    2020-01-03 -0.14  down      0.000000  20000  NaN  20000.000000\n2    2020-01-06 -0.41  down      0.000000  20000  buy  20000.000000\n3    2020-01-07  1.92    up    101.797696  19900  buy  20001.797696\n4    2020-01-08 -2.02  down    197.603807  19800  NaN  19997.603807\n..          ...   ...   ...           ...    ...  ...           ...\n336  2021-05-26 -0.12  down  20372.810590   4700  NaN  25072.810590\n337  2021-05-27  0.66    up  20507.271140   4700  buy  25207.271140\n338  2021-05-28 -0.30  down  20545.329687   4600  NaN  25145.329687\n339  2021-05-31  0.06    up  20557.656885   4600  buy  25157.656885\n340  2021-06-01  0.42    up  20744.298540   4500  NaN  25244.298540\n\n[341 rows x 7 columns],              日期  日增长率    涨跌          持有金额   剩余本金   操作           总资产\n0    2020-01-02  2.92    up      0.000000  20000  NaN  20000.000000\n1    2020-01-03  0.51    up      0.000000  20000  NaN  20000.000000\n2    2020-01-06  1.98    up      0.000000  20000  NaN  20000.000000\n3    2020-01-07  0.17    up      0.000000  20000  NaN  20000.000000\n4    2020-01-08 -1.16  down      0.000000  20000  NaN  20000.000000\n..          ...   ...   ...           ...    ...  ...           ...\n336  2021-05-26 -1.50  down  16071.686368   4900  NaN  20971.686368\n337  2021-05-27  1.27    up  16275.796785   4900  buy  21175.796785\n338  2021-05-28  0.58    up  16470.625536   4800  NaN  21270.625536\n339  2021-05-31  2.32    up  16852.744049   4800  NaN  21652.744049\n340  2021-06-01 -0.57  down  16756.683407   4800  NaN  21556.683407\n\n[341 rows x 7 columns],              日期  日增长率    涨跌          持有金额   剩余本金   操作           总资产\n0    2020-01-02 -0.14  down      0.000000  20000  NaN  20000.000000\n1    2020-01-03 -0.55  down      0.000000  20000  buy  20000.000000\n2    2020-01-06 -1.82  down     98.032730  19900  buy  19998.032730\n3    2020-01-07  1.19    up    200.237534  19800  buy  20000.237534\n4    2020-01-08 -0.73  down    297.896895  19700  NaN  19997.896895\n..          ...   ...   ...           ...    ...  ...           ...\n336  2021-05-26  0.07    up  19943.931259   6500  NaN  26443.931259\n337  2021-05-27 -0.20  down  19904.043397   6500  NaN  26404.043397\n338  2021-05-28 -0.68  down  19768.695902   6500  buy  26268.695902\n339  2021-05-31  1.65    up  20196.376909   6400  buy  26596.376909\n340  2021-06-01  1.34    up  20568.196350   6300  NaN  26868.196350\n\n[341 rows x 7 columns],              日期  日增长率    涨跌          持有金额   剩余本金   操作           总资产\n0    2020-01-02 -0.35  down      0.000000  20000  NaN  20000.000000\n1    2020-01-03 -0.69  down      0.000000  20000  buy  20000.000000\n2    2020-01-06 -0.93  down     99.070000  19900  buy  19999.070000\n3    2020-01-07  2.00    up    203.051400  19800  buy  20003.051400\n4    2020-01-08 -0.35  down    301.990720  19700  NaN  20001.990720\n..          ...   ...   ...           ...    ...  ...           ...\n336  2021-05-26 -1.18  down  20517.087725   6000  NaN  26517.087725\n337  2021-05-27  1.04    up  20730.465438   6000  buy  26730.465438\n338  2021-05-28 -2.79  down  20249.295452   5900  NaN  26149.295452\n339  2021-05-31  1.99    up  20652.256432   5900  buy  26552.256432\n340  2021-06-01  2.59    up  21289.739873   5800  NaN  27089.739873\n\n[341 rows x 7 columns],              日期  日增长率    涨跌          持有金额   剩余本金   操作           总资产\n0    2020-01-02 -1.06  down      0.000000  20000  NaN  20000.000000\n1    2020-01-03 -1.09  down      0.000000  20000  buy  20000.000000\n2    2020-01-06 -0.79  down     99.110790  19900  buy  19999.110790\n3    2020-01-07  1.03    up    201.060601  19800  buy  20001.060601\n4    2020-01-08  0.16    up    301.442138  19700  NaN  20001.442138\n..          ...   ...   ...           ...    ...  ...           ...\n336  2021-05-26 -0.86  down  23729.814965   6400  NaN  30129.814965\n337  2021-05-27  0.55    up  23860.328947   6400  buy  30260.328947\n338  2021-05-28  0.13    up  23991.377245   6300  NaN  30291.377245\n339  2021-05-31  0.58    up  24130.527233   6300  NaN  30430.527233\n340  2021-06-01  1.20    up  24420.093560   6300  NaN  30720.093560\n\n[341 rows x 7 columns],              日期  日增长率    涨跌          持有金额   剩余本金   操作           总资产\n0    2020-01-02  2.46    up      0.000000  20000  NaN  20000.000000\n1    2020-01-03  0.15    up      0.000000  20000  NaN  20000.000000\n2    2020-01-06  0.08    up      0.000000  20000  NaN  20000.000000\n3    2020-01-07  1.24    up      0.000000  20000  NaN  20000.000000\n4    2020-01-08 -0.89  down      0.000000  20000  NaN  20000.000000\n..          ...   ...   ...           ...    ...  ...           ...\n336  2021-05-26  0.47    up  18108.640674   6600  NaN  24708.640674\n337  2021-05-27  0.22    up  18148.479684   6600  NaN  24748.479684\n338  2021-05-28 -0.78  down  18006.921542   6600  NaN  24606.921542\n339  2021-05-31  0.42    up  18082.550613   6600  buy  24682.550613\n340  2021-06-01  0.38    up  18251.523849   6500  NaN  24751.523849\n\n[341 rows x 7 columns],              日期  日增长率    涨跌          持有金额   剩余本金   操作           总资产\n0    2020-01-02  2.37    up      0.000000  20000  NaN  20000.000000\n1    2020-01-03  2.06    up      0.000000  20000  NaN  20000.000000\n2    2020-01-06  2.50    up      0.000000  20000  NaN  20000.000000\n3    2020-01-07 -0.37  down      0.000000  20000  NaN  20000.000000\n4    2020-01-08 -0.27  down      0.000000  20000  buy  20000.000000\n..          ...   ...   ...           ...    ...  ...           ...\n336  2021-05-26 -1.80  down  24209.531518   5400  NaN  29609.531518\n337  2021-05-27  0.79    up  24400.786817   5400  buy  29800.786817\n338  2021-05-28  5.10    up  25750.169295   5300  NaN  31050.169295\n339  2021-05-31  6.79    up  27498.605790   5300  NaN  32798.605790\n340  2021-06-01 -2.10  down  26921.135068   5300  NaN  32221.135068\n\n[341 rows x 7 columns],              日期  日增长率    涨跌          持有金额   剩余本金   操作           总资产\n0    2020-01-02  2.57    up      0.000000  20000  NaN  20000.000000\n1    2020-01-03 -1.73  down      0.000000  20000  NaN  20000.000000\n2    2020-01-06 -0.32  down      0.000000  20000  buy  20000.000000\n3    2020-01-07 -0.40  down     99.450600  19900  buy  19999.450600\n4    2020-01-08 -0.72  down    197.865636  19800  buy  19997.865636\n..          ...   ...   ...           ...    ...  ...           ...\n336  2021-05-26 -0.72  down  16984.590888   3600  NaN  20584.590888\n337  2021-05-27  4.81    up  17801.549709   3600  buy  21401.549709\n338  2021-05-28 -0.97  down  17727.756132   3500  NaN  21227.756132\n339  2021-05-31  2.03    up  18087.629582   3500  buy  21587.629582\n340  2021-06-01  1.87    up  18527.585450   3400  NaN  21927.585450\n\n[341 rows x 7 columns]]\n"
     ]
    },
    {
     "output_type": "execute_result",
     "data": {
      "text/plain": [
       "(3410, 7)"
      ]
     },
     "metadata": {},
     "execution_count": 9
    }
   ],
   "source": [
    "import glob\n",
    "all_files = glob.glob('./demodata/*.xlsx')\n",
    "\n",
    "li = []\n",
    "for filename in all_files:\n",
    "    li.append(pd.read_excel(filename))\n",
    "print(li)\n",
    "data = pd.concat(li, axis=0)\n",
    "data.shape"
   ]
  },
  {
   "cell_type": "markdown",
   "metadata": {},
   "source": [
    "## 1-2 数据创建\n",
    "\n",
    "<br>\n",
    "\n",
    "除了直接读取本地文件，学会直接创建数据框也很重要，常见于测试一些函数，下面是从常见数据结构创建数据框的方法整理"
   ]
  },
  {
   "cell_type": "markdown",
   "metadata": {},
   "source": [
    "### 25 从列表创建\n",
    "\n",
    "<br>\n",
    "\n",
    "将下面的 `list` 转换为 `dataframe`，并指定列名为`\"早起Python\"`"
   ]
  },
  {
   "cell_type": "code",
   "execution_count": 10,
   "metadata": {},
   "outputs": [],
   "source": [
    "l = [1,2,3,4,5]"
   ]
  },
  {
   "cell_type": "code",
   "execution_count": 13,
   "metadata": {},
   "outputs": [
    {
     "output_type": "execute_result",
     "data": {
      "text/plain": [
       "   早起Python\n",
       "0         1\n",
       "1         2\n",
       "2         3\n",
       "3         4\n",
       "4         5"
      ],
      "text/html": "<div>\n<style scoped>\n    .dataframe tbody tr th:only-of-type {\n        vertical-align: middle;\n    }\n\n    .dataframe tbody tr th {\n        vertical-align: top;\n    }\n\n    .dataframe thead th {\n        text-align: right;\n    }\n</style>\n<table border=\"1\" class=\"dataframe\">\n  <thead>\n    <tr style=\"text-align: right;\">\n      <th></th>\n      <th>早起Python</th>\n    </tr>\n  </thead>\n  <tbody>\n    <tr>\n      <th>0</th>\n      <td>1</td>\n    </tr>\n    <tr>\n      <th>1</th>\n      <td>2</td>\n    </tr>\n    <tr>\n      <th>2</th>\n      <td>3</td>\n    </tr>\n    <tr>\n      <th>3</th>\n      <td>4</td>\n    </tr>\n    <tr>\n      <th>4</th>\n      <td>5</td>\n    </tr>\n  </tbody>\n</table>\n</div>"
     },
     "metadata": {},
     "execution_count": 13
    }
   ],
   "source": [
    "data = pd.DataFrame(data=l, columns=['早起Python'])\n",
    "data.head()"
   ]
  },
  {
   "cell_type": "markdown",
   "metadata": {},
   "source": [
    "### 26 从列表创建｜嵌套列表\n",
    "\n",
    "<br>\n",
    "\n",
    "将下面的 `list` 转换为 `dataframe`，并指定行索引为`\"公众号\",\"早起Python\"`"
   ]
  },
  {
   "cell_type": "code",
   "execution_count": 21,
   "metadata": {},
   "outputs": [
    {
     "output_type": "stream",
     "name": "stdout",
     "text": [
      "[[1, 4], [2, 5], [3, 6]]\n"
     ]
    }
   ],
   "source": [
    "l = [[1,2,3],[4,5,6]]\n",
    "ll = []\n",
    "for ind in range(0, 3):\n",
    "    ll.append([l[0][ind], l[1][ind]])\n",
    "print(ll)"
   ]
  },
  {
   "cell_type": "code",
   "execution_count": 19,
   "metadata": {},
   "outputs": [
    {
     "output_type": "execute_result",
     "data": {
      "text/plain": [
       "[([1, 2, 3],), ([4, 5, 6],)]"
      ]
     },
     "metadata": {},
     "execution_count": 19
    }
   ],
   "source": [
    "list(ll)"
   ]
  },
  {
   "cell_type": "code",
   "execution_count": 22,
   "metadata": {},
   "outputs": [
    {
     "output_type": "execute_result",
     "data": {
      "text/plain": [
       "   公众号  早起Python\n",
       "0    1         4\n",
       "1    2         5\n",
       "2    3         6"
      ],
      "text/html": "<div>\n<style scoped>\n    .dataframe tbody tr th:only-of-type {\n        vertical-align: middle;\n    }\n\n    .dataframe tbody tr th {\n        vertical-align: top;\n    }\n\n    .dataframe thead th {\n        text-align: right;\n    }\n</style>\n<table border=\"1\" class=\"dataframe\">\n  <thead>\n    <tr style=\"text-align: right;\">\n      <th></th>\n      <th>公众号</th>\n      <th>早起Python</th>\n    </tr>\n  </thead>\n  <tbody>\n    <tr>\n      <th>0</th>\n      <td>1</td>\n      <td>4</td>\n    </tr>\n    <tr>\n      <th>1</th>\n      <td>2</td>\n      <td>5</td>\n    </tr>\n    <tr>\n      <th>2</th>\n      <td>3</td>\n      <td>6</td>\n    </tr>\n  </tbody>\n</table>\n</div>"
     },
     "metadata": {},
     "execution_count": 22
    }
   ],
   "source": [
    "data = pd.DataFrame(data=ll, columns=[\"公众号\",\"早起Python\"])\n",
    "data.head()"
   ]
  },
  {
   "cell_type": "markdown",
   "metadata": {},
   "source": [
    "![公众号：早起Python](http://liuzaoqi.oss-cn-beijing.aliyuncs.com/2021/09/18/16319660121648.jpg?域名/sample.jpg?x-oss-process=style/stylename)"
   ]
  },
  {
   "cell_type": "code",
   "execution_count": null,
   "metadata": {},
   "outputs": [],
   "source": []
  },
  {
   "cell_type": "markdown",
   "metadata": {},
   "source": [
    "### 27 从字典创建"
   ]
  },
  {
   "cell_type": "markdown",
   "metadata": {},
   "source": [
    "执行下方代码，并将字典转换为`dataframe`"
   ]
  },
  {
   "cell_type": "code",
   "execution_count": 23,
   "metadata": {},
   "outputs": [],
   "source": [
    "d = {\n",
    "    \"one\": pd.Series([1.0, 2.0, 3.0], index=[\"a\", \"b\", \"c\"]),\n",
    "    \"two\": pd.Series([1.0, 2.0, 3.0, 4.0], index=[\"a\", \"b\", \"c\", \"d\"]) }"
   ]
  },
  {
   "cell_type": "code",
   "execution_count": 24,
   "metadata": {},
   "outputs": [
    {
     "output_type": "execute_result",
     "data": {
      "text/plain": [
       "   one  two\n",
       "a  1.0  1.0\n",
       "b  2.0  2.0\n",
       "c  3.0  3.0\n",
       "d  NaN  4.0"
      ],
      "text/html": "<div>\n<style scoped>\n    .dataframe tbody tr th:only-of-type {\n        vertical-align: middle;\n    }\n\n    .dataframe tbody tr th {\n        vertical-align: top;\n    }\n\n    .dataframe thead th {\n        text-align: right;\n    }\n</style>\n<table border=\"1\" class=\"dataframe\">\n  <thead>\n    <tr style=\"text-align: right;\">\n      <th></th>\n      <th>one</th>\n      <th>two</th>\n    </tr>\n  </thead>\n  <tbody>\n    <tr>\n      <th>a</th>\n      <td>1.0</td>\n      <td>1.0</td>\n    </tr>\n    <tr>\n      <th>b</th>\n      <td>2.0</td>\n      <td>2.0</td>\n    </tr>\n    <tr>\n      <th>c</th>\n      <td>3.0</td>\n      <td>3.0</td>\n    </tr>\n    <tr>\n      <th>d</th>\n      <td>NaN</td>\n      <td>4.0</td>\n    </tr>\n  </tbody>\n</table>\n</div>"
     },
     "metadata": {},
     "execution_count": 24
    }
   ],
   "source": [
    "data = pd.DataFrame.from_dict(d)\n",
    "data.head()"
   ]
  },
  {
   "cell_type": "markdown",
   "metadata": {},
   "source": [
    "### 28 从字典创建｜指定索引\n",
    "\n",
    "<br>\n",
    "\n",
    "还是上一题的字典`d`，将其转换为`dataframe`并指定索引顺序为 `d、b、a`"
   ]
  },
  {
   "cell_type": "code",
   "execution_count": 31,
   "metadata": {},
   "outputs": [
    {
     "output_type": "execute_result",
     "data": {
      "text/plain": [
       "   one  two\n",
       "d  NaN  4.0\n",
       "b  2.0  2.0\n",
       "a  1.0  1.0"
      ],
      "text/html": "<div>\n<style scoped>\n    .dataframe tbody tr th:only-of-type {\n        vertical-align: middle;\n    }\n\n    .dataframe tbody tr th {\n        vertical-align: top;\n    }\n\n    .dataframe thead th {\n        text-align: right;\n    }\n</style>\n<table border=\"1\" class=\"dataframe\">\n  <thead>\n    <tr style=\"text-align: right;\">\n      <th></th>\n      <th>one</th>\n      <th>two</th>\n    </tr>\n  </thead>\n  <tbody>\n    <tr>\n      <th>d</th>\n      <td>NaN</td>\n      <td>4.0</td>\n    </tr>\n    <tr>\n      <th>b</th>\n      <td>2.0</td>\n      <td>2.0</td>\n    </tr>\n    <tr>\n      <th>a</th>\n      <td>1.0</td>\n      <td>1.0</td>\n    </tr>\n  </tbody>\n</table>\n</div>"
     },
     "metadata": {},
     "execution_count": 31
    }
   ],
   "source": [
    "data = pd.DataFrame.from_records(d, index=['d','b','a'])\n",
    "data.head()"
   ]
  },
  {
   "cell_type": "markdown",
   "metadata": {},
   "source": [
    "### 29 从字典创建｜指定列名\n",
    "\n",
    "<br>\n",
    "\n",
    "还是上一题的字典`d`，将其转换为`dataframe`并指定索引顺序为 `d、b、a`，列名为`\"two\", \"three\"`"
   ]
  },
  {
   "cell_type": "code",
   "execution_count": 36,
   "metadata": {},
   "outputs": [
    {
     "output_type": "execute_result",
     "data": {
      "text/plain": [
       "   two  three\n",
       "d  NaN    4.0\n",
       "b  2.0    2.0\n",
       "a  1.0    1.0"
      ],
      "text/html": "<div>\n<style scoped>\n    .dataframe tbody tr th:only-of-type {\n        vertical-align: middle;\n    }\n\n    .dataframe tbody tr th {\n        vertical-align: top;\n    }\n\n    .dataframe thead th {\n        text-align: right;\n    }\n</style>\n<table border=\"1\" class=\"dataframe\">\n  <thead>\n    <tr style=\"text-align: right;\">\n      <th></th>\n      <th>two</th>\n      <th>three</th>\n    </tr>\n  </thead>\n  <tbody>\n    <tr>\n      <th>d</th>\n      <td>NaN</td>\n      <td>4.0</td>\n    </tr>\n    <tr>\n      <th>b</th>\n      <td>2.0</td>\n      <td>2.0</td>\n    </tr>\n    <tr>\n      <th>a</th>\n      <td>1.0</td>\n      <td>1.0</td>\n    </tr>\n  </tbody>\n</table>\n</div>"
     },
     "metadata": {},
     "execution_count": 36
    }
   ],
   "source": [
    "data = pd.DataFrame.from_records(d, index=['d','b','a']).rename(columns={\n",
    "    'one': 'two',\n",
    "    'two':'three'\n",
    "})\n",
    "data.head()"
   ]
  },
  {
   "cell_type": "markdown",
   "metadata": {},
   "source": [
    "### 30 从字典创建｜字典列表\n",
    "<br>\n",
    "\n",
    "将下方列表型字典转换为`dataframe`\n",
    "\n",
    "思考：如何指定行/列索引？"
   ]
  },
  {
   "cell_type": "code",
   "execution_count": 37,
   "metadata": {},
   "outputs": [],
   "source": [
    "d = [{\"a\": 1, \"b\": 2}, {\"a\": 5, \"b\": 10, \"c\": 20}]"
   ]
  },
  {
   "cell_type": "code",
   "execution_count": 38,
   "metadata": {},
   "outputs": [
    {
     "output_type": "execute_result",
     "data": {
      "text/plain": [
       "   a   b     c\n",
       "0  1   2   NaN\n",
       "1  5  10  20.0"
      ],
      "text/html": "<div>\n<style scoped>\n    .dataframe tbody tr th:only-of-type {\n        vertical-align: middle;\n    }\n\n    .dataframe tbody tr th {\n        vertical-align: top;\n    }\n\n    .dataframe thead th {\n        text-align: right;\n    }\n</style>\n<table border=\"1\" class=\"dataframe\">\n  <thead>\n    <tr style=\"text-align: right;\">\n      <th></th>\n      <th>a</th>\n      <th>b</th>\n      <th>c</th>\n    </tr>\n  </thead>\n  <tbody>\n    <tr>\n      <th>0</th>\n      <td>1</td>\n      <td>2</td>\n      <td>NaN</td>\n    </tr>\n    <tr>\n      <th>1</th>\n      <td>5</td>\n      <td>10</td>\n      <td>20.0</td>\n    </tr>\n  </tbody>\n</table>\n</div>"
     },
     "metadata": {},
     "execution_count": 38
    }
   ],
   "source": [
    "data = pd.DataFrame.from_records(d)\n",
    "data.head()"
   ]
  },
  {
   "cell_type": "markdown",
   "metadata": {},
   "source": [
    "### 31 从集合创建\n",
    "\n",
    "<br>\n",
    "\n",
    "将下面的元组转换为 dataframe 且行列索引均为 `1,2,3,4`"
   ]
  },
  {
   "cell_type": "code",
   "execution_count": 26,
   "metadata": {},
   "outputs": [],
   "source": [
    "t =((1,0,0,0,),(2,3,0,0,),(4,5,6,0,),(7,8,9,10,))"
   ]
  },
  {
   "cell_type": "code",
   "execution_count": 41,
   "metadata": {},
   "outputs": [
    {
     "output_type": "execute_result",
     "data": {
      "text/plain": [
       "Empty DataFrame\n",
       "Columns: []\n",
       "Index: [(1, 0, 0, 0), (2, 3, 0, 0), (4, 5, 6, 0), (7, 8, 9, 10)]"
      ],
      "text/html": "<div>\n<style scoped>\n    .dataframe tbody tr th:only-of-type {\n        vertical-align: middle;\n    }\n\n    .dataframe tbody tr th {\n        vertical-align: top;\n    }\n\n    .dataframe thead th {\n        text-align: right;\n    }\n</style>\n<table border=\"1\" class=\"dataframe\">\n  <thead>\n    <tr style=\"text-align: right;\">\n      <th></th>\n      <th></th>\n      <th></th>\n      <th></th>\n    </tr>\n    <tr>\n      <th>1</th>\n      <th>2</th>\n      <th>3</th>\n      <th>4</th>\n    </tr>\n  </thead>\n  <tbody>\n    <tr>\n      <th>1</th>\n      <th>0</th>\n      <th>0</th>\n      <th>0</th>\n    </tr>\n    <tr>\n      <th>2</th>\n      <th>3</th>\n      <th>0</th>\n      <th>0</th>\n    </tr>\n    <tr>\n      <th>4</th>\n      <th>5</th>\n      <th>6</th>\n      <th>0</th>\n    </tr>\n    <tr>\n      <th>7</th>\n      <th>8</th>\n      <th>9</th>\n      <th>10</th>\n    </tr>\n  </tbody>\n</table>\n</div>"
     },
     "metadata": {},
     "execution_count": 41
    }
   ],
   "source": [
    "data = pd.DataFrame.from_records(t, columns=[1,2,3,4], index=[1,2,3,4])\n",
    "data.head()"
   ]
  },
  {
   "cell_type": "markdown",
   "metadata": {},
   "source": [
    "## 1-3 数据存储"
   ]
  },
  {
   "cell_type": "markdown",
   "metadata": {},
   "source": [
    "### 32 保存为 CSV\n",
    "\n",
    "<br>\n",
    "\n",
    "将第三题读取到的数据保存为 `csv` 格式至当前目录下（文件名任意）"
   ]
  },
  {
   "cell_type": "code",
   "execution_count": 47,
   "metadata": {},
   "outputs": [],
   "source": [
    "data = pd.read_csv(\"某招聘网站数据.csv\",nrows = 20)"
   ]
  },
  {
   "cell_type": "code",
   "execution_count": 43,
   "metadata": {},
   "outputs": [],
   "source": [
    "data.to_csv('tmp1.csv')"
   ]
  },
  {
   "cell_type": "markdown",
   "metadata": {},
   "source": [
    "### 33 保存为 CSV｜指定列\n",
    "\n",
    "<br>\n",
    "\n",
    "将第三题读取到的数据保存为 `csv` 格式至当前目录下（文件名任意），且只保留`positionName、salary`两列"
   ]
  },
  {
   "cell_type": "code",
   "execution_count": 51,
   "metadata": {},
   "outputs": [],
   "source": [
    "data.to_csv('tmp2.csv', columns=['positionName', 'salary'])"
   ]
  },
  {
   "cell_type": "markdown",
   "metadata": {},
   "source": [
    "### 34 保存为 CSV｜取消索引\n",
    "\n",
    "<br>\n",
    "\n",
    "将第三题读取到的数据保存为 `csv` 格式至当前目录下（文件名任意），且取消每一行的索引"
   ]
  },
  {
   "cell_type": "code",
   "execution_count": 54,
   "metadata": {},
   "outputs": [],
   "source": [
    "data.to_csv('tmp3.csv', index=False)"
   ]
  },
  {
   "cell_type": "markdown",
   "metadata": {},
   "source": [
    "### 35 保存为 CSV｜标记缺失值\n",
    "\n",
    "<br>\n",
    "\n",
    "在上一题的基础上，在保存的同时，将缺失值标记为`'数据缺失'`"
   ]
  },
  {
   "cell_type": "code",
   "execution_count": 55,
   "metadata": {},
   "outputs": [],
   "source": [
    "data.fillna('数据缺失') .to_csv('tmp4.csv', index=False)"
   ]
  },
  {
   "cell_type": "markdown",
   "metadata": {},
   "source": [
    "### 36 保存为CSV｜压缩\n",
    "\n",
    "<br>\n",
    "\n",
    "将上一题的数据保存至 `zip` 文件，解压后出现 `out.csv`"
   ]
  },
  {
   "cell_type": "code",
   "execution_count": 61,
   "metadata": {},
   "outputs": [],
   "source": [
    "data.fillna('数据缺失') .to_csv('tmp1.zip', index=False, compression='zip')"
   ]
  },
  {
   "cell_type": "markdown",
   "metadata": {},
   "source": [
    "### 37 保存为 Excel \n",
    "\n",
    "<br>\n",
    "\n",
    "将第三题读取到的数据保存为 `xlsx` 格式至当前目录下（文件名任意）"
   ]
  },
  {
   "cell_type": "code",
   "execution_count": 56,
   "metadata": {},
   "outputs": [],
   "source": [
    "data.to_excel('tmp1.xlsx')"
   ]
  },
  {
   "cell_type": "markdown",
   "metadata": {},
   "source": [
    "### 38 保存为 JSON\n",
    "\n",
    "将之前的数据保存为 `json` 格式至当前目录下（文件名任意）"
   ]
  },
  {
   "cell_type": "code",
   "execution_count": 57,
   "metadata": {},
   "outputs": [],
   "source": [
    "data.to_json('tmp1.json')"
   ]
  },
  {
   "cell_type": "markdown",
   "metadata": {},
   "source": [
    "### 39 保存为 Markdown"
   ]
  },
  {
   "cell_type": "markdown",
   "metadata": {},
   "source": [
    "将之前数据转换为 `markdown` 形式表格，这样可以直接复制进 `.md` 文件中使用"
   ]
  },
  {
   "cell_type": "code",
   "execution_count": 58,
   "metadata": {},
   "outputs": [],
   "source": [
    "data.to_markdown('tmp1.md')"
   ]
  },
  {
   "cell_type": "markdown",
   "metadata": {},
   "source": [
    "### 40 保存为 Html\n",
    "\n",
    "将之前的数据保存为 `html` 格式至当前目录下（文件名任意），并进行如下设置\n",
    "- 取消行索引\n",
    "- 标题居中对齐\n",
    "- 列宽100"
   ]
  },
  {
   "cell_type": "code",
   "execution_count": 62,
   "metadata": {},
   "outputs": [],
   "source": [
    "data.to_html('tmp1.html', col_space=100, index=False, justify='center')"
   ]
  },
  {
   "cell_type": "code",
   "execution_count": null,
   "metadata": {},
   "outputs": [],
   "source": []
  }
 ],
 "metadata": {
  "kernelspec": {
   "name": "python3",
   "display_name": "Python 3.9.6 64-bit"
  },
  "language_info": {
   "codemirror_mode": {
    "name": "ipython",
    "version": 3
   },
   "file_extension": ".py",
   "mimetype": "text/x-python",
   "name": "python",
   "nbconvert_exporter": "python",
   "pygments_lexer": "ipython3",
   "version": "3.9.6"
  },
  "toc": {
   "base_numbering": 1,
   "nav_menu": {},
   "number_sections": false,
   "sideBar": true,
   "skip_h1_title": false,
   "title_cell": "Table of Contents",
   "title_sidebar": "Contents",
   "toc_cell": false,
   "toc_position": {
    "height": "calc(100% - 180px)",
    "left": "10px",
    "top": "150px",
    "width": "384px"
   },
   "toc_section_display": true,
   "toc_window_display": true
  },
  "interpreter": {
   "hash": "ac2eaa0ea0ebeafcc7822e65e46aa9d4f966f30b695406963e145ea4a91cd4fc"
  }
 },
 "nbformat": 4,
 "nbformat_minor": 4
}